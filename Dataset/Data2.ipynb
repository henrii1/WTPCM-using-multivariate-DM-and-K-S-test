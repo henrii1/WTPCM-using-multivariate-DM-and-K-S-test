{
  "nbformat": 4,
  "nbformat_minor": 0,
  "metadata": {
    "colab": {
      "provenance": []
    },
    "kernelspec": {
      "name": "python3",
      "display_name": "Python 3"
    },
    "language_info": {
      "name": "python"
    }
  },
  "cells": [
    {
      "cell_type": "code",
      "source": [
        "!pip install -q seaborn"
      ],
      "metadata": {
        "id": "lcdk3ghGPh91"
      },
      "execution_count": 1,
      "outputs": []
    },
    {
      "cell_type": "code",
      "source": [
        "import matplotlib.pyplot as plt"
      ],
      "metadata": {
        "id": "LEXg3uxKPq_W"
      },
      "execution_count": 2,
      "outputs": []
    },
    {
      "cell_type": "code",
      "execution_count": 3,
      "metadata": {
        "id": "eDPHVi0dCVrv"
      },
      "outputs": [],
      "source": [
        "import tensorflow as tf\n",
        "import scipy as sc\n",
        "import pandas as pd\n",
        "import numpy as np\n",
        "import time\n",
        "from sklearn.metrics import *\n",
        "import xgboost as xgb\n",
        "from sklearn.preprocessing import MinMaxScaler\n",
        "from keras.losses import binary_crossentropy\n",
        "from keras.layers import Dense, Flatten, Layer\n",
        "from tensorflow.keras.models import Sequential\n",
        "from tensorflow.keras.layers import Dense, Dropout\n",
        "from sklearn.metrics import r2_score\n",
        "from keras import backend as K\n",
        "from sklearn.model_selection import train_test_split"
      ]
    },
    {
      "cell_type": "code",
      "source": [
        "class RBFLayer(Layer):\n",
        "    def __init__(self, units, gamma, **kwargs):\n",
        "        super(RBFLayer, self).__init__(**kwargs)\n",
        "        self.units = units\n",
        "        self.gamma = K.cast_to_floatx(gamma)\n",
        "\n",
        "    def build(self, input_shape):\n",
        "#         print(input_shape)\n",
        "#         print(self.units)\n",
        "        self.mu = self.add_weight(name='mu',\n",
        "                                  shape=(int(input_shape[1]), self.units),\n",
        "                                  initializer='uniform',\n",
        "                                  trainable=True)\n",
        "        super(RBFLayer, self).build(input_shape)\n",
        "\n",
        "    def call(self, inputs):\n",
        "        diff = K.expand_dims(inputs) - self.mu\n",
        "        l2 = K.sum(K.pow(diff, 2), axis=1)\n",
        "        res = K.exp(-1 * self.gamma * l2)\n",
        "        return res\n",
        "\n",
        "    def compute_output_shape(self, input_shape):\n",
        "        return (input_shape[0], self.units)"
      ],
      "metadata": {
        "id": "BD189SkNCr4z"
      },
      "execution_count": 4,
      "outputs": []
    },
    {
      "cell_type": "code",
      "source": [
        "data_dir = 'https://github.com/henrii1/Wind-Turbine-power-prediction-and-monitoring-using-XGboost-and-quantile-regression/blob/main/data/penmanshiel_01.xlsx?raw=true'\n",
        "data = pd.read_excel(data_dir)\n",
        "data.isna().sum()\n",
        "\n",
        "def outlier_remover(dat, prop, min, max):\n",
        "    d = dat\n",
        "    q_low = d[prop].quantile(min)\n",
        "    q_high = d[prop].quantile(max)\n",
        "    return d[(d[prop]<q_high) & (d[prop]>q_low)]\n",
        "\n",
        "d1 = {}\n",
        "step = 50\n",
        "i = 1\n",
        "for x in range(20, 3100, step):\n",
        "    d1[i] = data.iloc[((data['power']>=x)& (data['power']<x+step)).values]\n",
        "    i = i + 1\n",
        "\n",
        "d1[-2] = data.iloc[(data['power']>=2900).values]\n",
        "\n",
        "for x in range(1, 62):\n",
        "    if x <= 3:\n",
        "        F = 0.96\n",
        "    elif ((x > 3) and (x <= 6)):\n",
        "        F = 0.84\n",
        "    elif ((x > 6) and (x <= 10)):\n",
        "        F = 0.93\n",
        "    elif ((x > 10) and (x <= 13)):\n",
        "        F = 0.95\n",
        "    elif ((x > 13) and (x <= 20)):\n",
        "        F = 0.90\n",
        "    elif ((x > 20) and (x < 30)):\n",
        "        F = 0.88\n",
        "    else:\n",
        "        F = 0.9\n",
        "    d1[x] = outlier_remover(d1[x], 'wind speed', 0.00001, F)\n",
        "\n",
        "\n",
        "df = pd.DataFrame()\n",
        "for infile in range (1, 62):\n",
        "    data = d1[infile]\n",
        "    df = df.append(data, ignore_index = True)\n",
        "\n",
        "\n"
      ],
      "metadata": {
        "id": "7oA3RVTLCwA5"
      },
      "execution_count": 5,
      "outputs": []
    },
    {
      "cell_type": "code",
      "source": [
        "da = df.drop(columns=['date'])\n",
        "da.dropna()\n",
        "scaler = MinMaxScaler(feature_range =(0, 1))\n",
        "data_ = scaler.fit_transform(da)\n",
        "data_1 = np.array(da)\n",
        "data_x_ = data_1[:, :-1]\n",
        "data_y_ = data_1[:, -1]\n",
        "data_x = data_[:, :-1]\n",
        "data_y = data_[:, -1]\n",
        "\n",
        "x_train, x_test, y_train, y_test = train_test_split(data_x, data_y, test_size = 0.001, random_state = 1)\n",
        "x_train_, x_test_, y_train_, y_test_ = train_test_split(data_x_, data_y_, test_size = 0.001, random_state = 1)"
      ],
      "metadata": {
        "id": "UiRcOe2mD2G0"
      },
      "execution_count": 6,
      "outputs": []
    },
    {
      "cell_type": "code",
      "source": [
        "def eval_metrics(actual, pred):\n",
        "    rmse = np.sqrt(mean_squared_error(actual, pred))\n",
        "    mae = mean_absolute_error(actual, pred)\n",
        "    r2 = r2_score(actual, pred)\n",
        "    print(f'xgboost_RMSE:{rmse}')\n",
        "    print(f'xgboost_MAE:{mae}')\n",
        "    print(f'xgboost_R_SCORE:{r2}')"
      ],
      "metadata": {
        "id": "fSAZO-rBDAq1"
      },
      "execution_count": 7,
      "outputs": []
    },
    {
      "cell_type": "code",
      "source": [
        "best_xgb_model = xgb.XGBRegressor(colsample_bytree=0.4,\n",
        "                 gamma=0,                 \n",
        "                 learning_rate=0.07,\n",
        "                 max_depth=3,\n",
        "                 min_child_weight=1.5,\n",
        "                 n_estimators=10000,                                                                    \n",
        "                 reg_alpha=0.75,\n",
        "                 reg_lambda=0.45,\n",
        "                 subsample=0.6,\n",
        "                 seed=42)\n",
        "\n",
        "\n",
        "best_xgb_model.fit(x_train_,y_train_)\n",
        "pred1 = best_xgb_model.predict(x_test_)\n",
        "\n",
        "xgboost_model = eval_metrics(y_test_, pred1)\n",
        "print(f' xgboost cummulative accuracy is: {xgboost_model}')"
      ],
      "metadata": {
        "colab": {
          "base_uri": "https://localhost:8080/"
        },
        "id": "v6bvPAogEWnD",
        "outputId": "494937aa-511b-42d4-aa16-55e2403c2d27"
      },
      "execution_count": 8,
      "outputs": [
        {
          "output_type": "stream",
          "name": "stdout",
          "text": [
            "[18:38:26] WARNING: /workspace/src/objective/regression_obj.cu:152: reg:linear is now deprecated in favor of reg:squarederror.\n",
            "xgboost_RMSE:51.85204240166102\n",
            "xgboost_MAE:36.99446443532558\n",
            "xgboost_R_SCORE:0.993687350590727\n",
            " xgboost cummulative accuracy is: None\n"
          ]
        }
      ]
    },
    {
      "cell_type": "code",
      "source": [
        "best_xgb_model_ = xgb.XGBRegressor(colsample_bytree=0.4,\n",
        "                 gamma=0,                 \n",
        "                 learning_rate=0.07,\n",
        "                 max_depth=3,\n",
        "                 min_child_weight=1.5,\n",
        "                 n_estimators=10000,                                                                    \n",
        "                 reg_alpha=0.75,\n",
        "                 reg_lambda=0.45,\n",
        "                 subsample=0.6,\n",
        "                 seed=42)\n",
        "best_xgb_model_.fit(x_train,y_train)\n",
        "pred1_ = best_xgb_model_.predict(x_test)\n",
        "\n",
        "#xgboost_model_ = eval_metrics(y_test_, pred1_)\n",
        "#print(f' xgboost cummulative accuracy is: {xgboost_model}')"
      ],
      "metadata": {
        "colab": {
          "base_uri": "https://localhost:8080/"
        },
        "id": "kiknOmlc9NnS",
        "outputId": "02d6da54-2af4-456a-ee7e-13582d3c80b0"
      },
      "execution_count": 9,
      "outputs": [
        {
          "output_type": "stream",
          "name": "stdout",
          "text": [
            "[18:40:29] WARNING: /workspace/src/objective/regression_obj.cu:152: reg:linear is now deprecated in favor of reg:squarederror.\n"
          ]
        }
      ]
    },
    {
      "cell_type": "code",
      "source": [
        "print(f'the ground truth result is: {y_test_}')"
      ],
      "metadata": {
        "colab": {
          "base_uri": "https://localhost:8080/"
        },
        "id": "tR7SDeINEbbl",
        "outputId": "3af2393e-1e07-49b4-b1ff-4c0ab79cb6a5"
      },
      "execution_count": 10,
      "outputs": [
        {
          "output_type": "stream",
          "name": "stdout",
          "text": [
            "the ground truth result is: [ 421.1114624  2047.52675445  118.00459256  152.85614433 1334.0157959\n",
            "   65.34854271 1584.86193034  249.38588918  962.33074341  631.83483378\n",
            " 1189.01029053   78.75710065  371.9245818   800.08827209  967.92466024\n",
            "  926.16961263  970.1651413  1919.74383138   71.74910069  871.44896952\n",
            "  145.26360881 1442.80150757 1764.25617269 1801.09806722  674.50112101\n",
            "  626.05876973 1069.48064372 1003.21468506  446.95342649  396.36229858\n",
            "  722.20535496 2043.94440511   36.61119537  254.01232707  280.78858782\n",
            " 2041.0682902  2049.41454264  332.65550868]\n"
          ]
        }
      ]
    },
    {
      "cell_type": "code",
      "source": [
        "print(f'the ground truth result is: {y_test}')"
      ],
      "metadata": {
        "colab": {
          "base_uri": "https://localhost:8080/"
        },
        "id": "4oThU09H_KuU",
        "outputId": "2fa99dea-5dda-449e-b137-100bd9edd6fc"
      },
      "execution_count": 11,
      "outputs": [
        {
          "output_type": "stream",
          "name": "stdout",
          "text": [
            "the ground truth result is: [0.19502371 0.98580298 0.04765014 0.06459532 0.63888686 0.02204825\n",
            " 0.76085074 0.11152904 0.4581699  0.29747951 0.56838375 0.02856762\n",
            " 0.17110856 0.379286   0.46088972 0.440588   0.46197906 0.92367365\n",
            " 0.02516027 0.41398228 0.06090375 0.69177956 0.84807401 0.8659869\n",
            " 0.31822428 0.29467113 0.51026725 0.47804808 0.20758833 0.18299042\n",
            " 0.34141855 0.9840612  0.00807587 0.11377846 0.12679734 0.98266281\n",
            " 0.98672084 0.15201555]\n"
          ]
        }
      ]
    },
    {
      "cell_type": "code",
      "source": [
        "print(f\"xgboost predicted results is: {pred1_}\")"
      ],
      "metadata": {
        "colab": {
          "base_uri": "https://localhost:8080/"
        },
        "id": "TOl4w_8OEecx",
        "outputId": "c9b9cae3-ff7c-447c-d847-0e42f21610be"
      },
      "execution_count": 12,
      "outputs": [
        {
          "output_type": "stream",
          "name": "stdout",
          "text": [
            "xgboost predicted results is: [0.22253844 0.9757898  0.03231555 0.06085983 0.6189611  0.01963761\n",
            " 0.7597838  0.11191139 0.46628013 0.29282093 0.5808039  0.03382155\n",
            " 0.16005108 0.35531473 0.4496679  0.40669212 0.45987815 0.86529434\n",
            " 0.01893958 0.41610408 0.06288832 0.65634453 0.9002584  0.80905557\n",
            " 0.29925144 0.32344514 0.4864298  0.481574   0.22727972 0.18377069\n",
            " 0.3126849  0.9846465  0.04332054 0.12138847 0.1311276  0.9733738\n",
            " 0.98379326 0.15011671]\n"
          ]
        }
      ]
    },
    {
      "cell_type": "code",
      "source": [
        "model1_1A = Sequential()\n",
        "model1_1A.add(Dense(128, input_dim = (3)))\n",
        "model1_1A.add(RBFLayer(64, 0.5))\n",
        "model1_1A.add(Dense(1, activation='sigmoid', name= 'output'))\n",
        "model1_1A.summary()"
      ],
      "metadata": {
        "colab": {
          "base_uri": "https://localhost:8080/"
        },
        "id": "tUkvQq1bEiG5",
        "outputId": "6b92ac7f-d4f3-46bf-df50-b4a5b237bfa8"
      },
      "execution_count": 13,
      "outputs": [
        {
          "output_type": "stream",
          "name": "stdout",
          "text": [
            "Model: \"sequential\"\n",
            "_________________________________________________________________\n",
            " Layer (type)                Output Shape              Param #   \n",
            "=================================================================\n",
            " dense (Dense)               (None, 128)               512       \n",
            "                                                                 \n",
            " rbf_layer (RBFLayer)        (None, 64)                8192      \n",
            "                                                                 \n",
            " output (Dense)              (None, 1)                 65        \n",
            "                                                                 \n",
            "=================================================================\n",
            "Total params: 8,769\n",
            "Trainable params: 8,769\n",
            "Non-trainable params: 0\n",
            "_________________________________________________________________\n"
          ]
        }
      ]
    },
    {
      "cell_type": "code",
      "source": [
        "model1_1A.compile(optimizer='adam',\n",
        "              loss=binary_crossentropy,\n",
        "              metrics=[\n",
        "                       tf.keras.metrics.RootMeanSquaredError(),\n",
        "                       tf.keras.metrics.MeanAbsoluteError(),\n",
        "                       ])"
      ],
      "metadata": {
        "id": "y9SR01eZEmTQ"
      },
      "execution_count": 14,
      "outputs": []
    },
    {
      "cell_type": "code",
      "source": [
        "rbf_model = model1_1A.fit(x_train, y_train, epochs=50, batch_size=50, verbose=1)\n",
        "\n",
        "\n",
        "rbf_pred1 = model1_1A.predict(x_test)\n",
        "r2=r2_score(y_test, rbf_pred1)\n",
        "print(r2)"
      ],
      "metadata": {
        "colab": {
          "base_uri": "https://localhost:8080/"
        },
        "id": "a6odhxurEo7j",
        "outputId": "f16923cf-cf72-4853-85fe-b3f5a1e70439"
      },
      "execution_count": 15,
      "outputs": [
        {
          "output_type": "stream",
          "name": "stdout",
          "text": [
            "Epoch 1/50\n",
            "745/745 [==============================] - 5s 5ms/step - loss: 0.4032 - root_mean_squared_error: 0.0754 - mean_absolute_error: 0.0388\n",
            "Epoch 2/50\n",
            "745/745 [==============================] - 4s 5ms/step - loss: 0.3891 - root_mean_squared_error: 0.0278 - mean_absolute_error: 0.0211\n",
            "Epoch 3/50\n",
            "745/745 [==============================] - 4s 5ms/step - loss: 0.3887 - root_mean_squared_error: 0.0267 - mean_absolute_error: 0.0200\n",
            "Epoch 4/50\n",
            "745/745 [==============================] - 4s 5ms/step - loss: 0.3885 - root_mean_squared_error: 0.0261 - mean_absolute_error: 0.0194\n",
            "Epoch 5/50\n",
            "745/745 [==============================] - 4s 5ms/step - loss: 0.3884 - root_mean_squared_error: 0.0256 - mean_absolute_error: 0.0188\n",
            "Epoch 6/50\n",
            "745/745 [==============================] - 4s 5ms/step - loss: 0.3883 - root_mean_squared_error: 0.0255 - mean_absolute_error: 0.0187\n",
            "Epoch 7/50\n",
            "745/745 [==============================] - 4s 5ms/step - loss: 0.3883 - root_mean_squared_error: 0.0251 - mean_absolute_error: 0.0183\n",
            "Epoch 8/50\n",
            "745/745 [==============================] - 4s 5ms/step - loss: 0.3883 - root_mean_squared_error: 0.0251 - mean_absolute_error: 0.0183\n",
            "Epoch 9/50\n",
            "745/745 [==============================] - 4s 5ms/step - loss: 0.3882 - root_mean_squared_error: 0.0250 - mean_absolute_error: 0.0182\n",
            "Epoch 10/50\n",
            "745/745 [==============================] - 4s 5ms/step - loss: 0.3882 - root_mean_squared_error: 0.0249 - mean_absolute_error: 0.0182\n",
            "Epoch 11/50\n",
            "745/745 [==============================] - 4s 5ms/step - loss: 0.3882 - root_mean_squared_error: 0.0250 - mean_absolute_error: 0.0182\n",
            "Epoch 12/50\n",
            "745/745 [==============================] - 4s 5ms/step - loss: 0.3882 - root_mean_squared_error: 0.0247 - mean_absolute_error: 0.0180\n",
            "Epoch 13/50\n",
            "745/745 [==============================] - 4s 5ms/step - loss: 0.3882 - root_mean_squared_error: 0.0247 - mean_absolute_error: 0.0180\n",
            "Epoch 14/50\n",
            "745/745 [==============================] - 4s 5ms/step - loss: 0.3882 - root_mean_squared_error: 0.0248 - mean_absolute_error: 0.0181\n",
            "Epoch 15/50\n",
            "745/745 [==============================] - 4s 5ms/step - loss: 0.3882 - root_mean_squared_error: 0.0246 - mean_absolute_error: 0.0180\n",
            "Epoch 16/50\n",
            "745/745 [==============================] - 4s 5ms/step - loss: 0.3882 - root_mean_squared_error: 0.0246 - mean_absolute_error: 0.0179\n",
            "Epoch 17/50\n",
            "745/745 [==============================] - 4s 5ms/step - loss: 0.3881 - root_mean_squared_error: 0.0244 - mean_absolute_error: 0.0178\n",
            "Epoch 18/50\n",
            "745/745 [==============================] - 4s 5ms/step - loss: 0.3881 - root_mean_squared_error: 0.0244 - mean_absolute_error: 0.0178\n",
            "Epoch 19/50\n",
            "745/745 [==============================] - 4s 5ms/step - loss: 0.3881 - root_mean_squared_error: 0.0243 - mean_absolute_error: 0.0178\n",
            "Epoch 20/50\n",
            "745/745 [==============================] - 4s 5ms/step - loss: 0.3881 - root_mean_squared_error: 0.0243 - mean_absolute_error: 0.0177\n",
            "Epoch 21/50\n",
            "745/745 [==============================] - 4s 5ms/step - loss: 0.3881 - root_mean_squared_error: 0.0241 - mean_absolute_error: 0.0176\n",
            "Epoch 22/50\n",
            "745/745 [==============================] - 4s 5ms/step - loss: 0.3881 - root_mean_squared_error: 0.0241 - mean_absolute_error: 0.0177\n",
            "Epoch 23/50\n",
            "745/745 [==============================] - 4s 5ms/step - loss: 0.3881 - root_mean_squared_error: 0.0241 - mean_absolute_error: 0.0177\n",
            "Epoch 24/50\n",
            "745/745 [==============================] - 5s 6ms/step - loss: 0.3881 - root_mean_squared_error: 0.0240 - mean_absolute_error: 0.0176\n",
            "Epoch 25/50\n",
            "745/745 [==============================] - 5s 6ms/step - loss: 0.3881 - root_mean_squared_error: 0.0241 - mean_absolute_error: 0.0177\n",
            "Epoch 26/50\n",
            "745/745 [==============================] - 4s 5ms/step - loss: 0.3880 - root_mean_squared_error: 0.0237 - mean_absolute_error: 0.0175\n",
            "Epoch 27/50\n",
            "745/745 [==============================] - 4s 6ms/step - loss: 0.3881 - root_mean_squared_error: 0.0239 - mean_absolute_error: 0.0176\n",
            "Epoch 28/50\n",
            "745/745 [==============================] - 4s 5ms/step - loss: 0.3880 - root_mean_squared_error: 0.0235 - mean_absolute_error: 0.0174\n",
            "Epoch 29/50\n",
            "745/745 [==============================] - 4s 5ms/step - loss: 0.3880 - root_mean_squared_error: 0.0236 - mean_absolute_error: 0.0175\n",
            "Epoch 30/50\n",
            "745/745 [==============================] - 4s 5ms/step - loss: 0.3880 - root_mean_squared_error: 0.0236 - mean_absolute_error: 0.0174\n",
            "Epoch 31/50\n",
            "745/745 [==============================] - 4s 5ms/step - loss: 0.3880 - root_mean_squared_error: 0.0235 - mean_absolute_error: 0.0173\n",
            "Epoch 32/50\n",
            "745/745 [==============================] - 4s 5ms/step - loss: 0.3880 - root_mean_squared_error: 0.0235 - mean_absolute_error: 0.0173\n",
            "Epoch 33/50\n",
            "745/745 [==============================] - 4s 6ms/step - loss: 0.3880 - root_mean_squared_error: 0.0235 - mean_absolute_error: 0.0174\n",
            "Epoch 34/50\n",
            "745/745 [==============================] - 5s 7ms/step - loss: 0.3880 - root_mean_squared_error: 0.0234 - mean_absolute_error: 0.0173\n",
            "Epoch 35/50\n",
            "745/745 [==============================] - 4s 6ms/step - loss: 0.3880 - root_mean_squared_error: 0.0234 - mean_absolute_error: 0.0173\n",
            "Epoch 36/50\n",
            "745/745 [==============================] - 4s 6ms/step - loss: 0.3880 - root_mean_squared_error: 0.0234 - mean_absolute_error: 0.0173\n",
            "Epoch 37/50\n",
            "745/745 [==============================] - 4s 6ms/step - loss: 0.3879 - root_mean_squared_error: 0.0232 - mean_absolute_error: 0.0172\n",
            "Epoch 38/50\n",
            "745/745 [==============================] - 5s 7ms/step - loss: 0.3879 - root_mean_squared_error: 0.0232 - mean_absolute_error: 0.0172\n",
            "Epoch 39/50\n",
            "745/745 [==============================] - 5s 6ms/step - loss: 0.3879 - root_mean_squared_error: 0.0231 - mean_absolute_error: 0.0171\n",
            "Epoch 40/50\n",
            "745/745 [==============================] - 4s 5ms/step - loss: 0.3879 - root_mean_squared_error: 0.0232 - mean_absolute_error: 0.0171\n",
            "Epoch 41/50\n",
            "745/745 [==============================] - 4s 6ms/step - loss: 0.3879 - root_mean_squared_error: 0.0230 - mean_absolute_error: 0.0170\n",
            "Epoch 42/50\n",
            "745/745 [==============================] - 4s 5ms/step - loss: 0.3878 - root_mean_squared_error: 0.0230 - mean_absolute_error: 0.0169\n",
            "Epoch 43/50\n",
            "745/745 [==============================] - 4s 5ms/step - loss: 0.3878 - root_mean_squared_error: 0.0230 - mean_absolute_error: 0.0170\n",
            "Epoch 44/50\n",
            "745/745 [==============================] - 4s 5ms/step - loss: 0.3878 - root_mean_squared_error: 0.0227 - mean_absolute_error: 0.0167\n",
            "Epoch 45/50\n",
            "745/745 [==============================] - 4s 5ms/step - loss: 0.3877 - root_mean_squared_error: 0.0227 - mean_absolute_error: 0.0166\n",
            "Epoch 46/50\n",
            "745/745 [==============================] - 4s 5ms/step - loss: 0.3877 - root_mean_squared_error: 0.0226 - mean_absolute_error: 0.0165\n",
            "Epoch 47/50\n",
            "745/745 [==============================] - 4s 5ms/step - loss: 0.3877 - root_mean_squared_error: 0.0227 - mean_absolute_error: 0.0165\n",
            "Epoch 48/50\n",
            "745/745 [==============================] - 4s 5ms/step - loss: 0.3877 - root_mean_squared_error: 0.0227 - mean_absolute_error: 0.0165\n",
            "Epoch 49/50\n",
            "745/745 [==============================] - 4s 5ms/step - loss: 0.3876 - root_mean_squared_error: 0.0226 - mean_absolute_error: 0.0164\n",
            "Epoch 50/50\n",
            "745/745 [==============================] - 4s 5ms/step - loss: 0.3876 - root_mean_squared_error: 0.0225 - mean_absolute_error: 0.0163\n",
            "0.9932266179760428\n"
          ]
        }
      ]
    },
    {
      "cell_type": "code",
      "source": [
        "print(f\"the rbf predicted result is: {rbf_pred1}\")"
      ],
      "metadata": {
        "colab": {
          "base_uri": "https://localhost:8080/"
        },
        "id": "w2ajeGzfEtD0",
        "outputId": "541aba96-fceb-45fc-94ef-b0b8d5514b69"
      },
      "execution_count": 16,
      "outputs": [
        {
          "output_type": "stream",
          "name": "stdout",
          "text": [
            "the rbf predicted result is: [[0.21974814]\n",
            " [0.9614229 ]\n",
            " [0.03611299]\n",
            " [0.06426561]\n",
            " [0.60237205]\n",
            " [0.0223726 ]\n",
            " [0.75502545]\n",
            " [0.1103684 ]\n",
            " [0.4528381 ]\n",
            " [0.29276723]\n",
            " [0.5794483 ]\n",
            " [0.03788126]\n",
            " [0.1648362 ]\n",
            " [0.35360903]\n",
            " [0.4493586 ]\n",
            " [0.39194778]\n",
            " [0.4695508 ]\n",
            " [0.8592712 ]\n",
            " [0.02350235]\n",
            " [0.41889924]\n",
            " [0.05335715]\n",
            " [0.6420195 ]\n",
            " [0.90076375]\n",
            " [0.786665  ]\n",
            " [0.3068056 ]\n",
            " [0.32005045]\n",
            " [0.4776222 ]\n",
            " [0.4793443 ]\n",
            " [0.22922069]\n",
            " [0.17464912]\n",
            " [0.30654436]\n",
            " [0.97655845]\n",
            " [0.00217727]\n",
            " [0.12641034]\n",
            " [0.1334976 ]\n",
            " [0.9784558 ]\n",
            " [0.9842967 ]\n",
            " [0.15362284]]\n"
          ]
        }
      ]
    },
    {
      "cell_type": "code",
      "source": [
        "model1_2A = Sequential()\n",
        "model1_2A.add(Dense(3, activation='relu', input_dim=(3)))\n",
        "model1_2A.add(Dense(32, activation='relu'))\n",
        "model1_2A.add(Dense(64, activation='relu'))\n",
        "model1_2A.add(Dense(32, activation='relu'))\n",
        "model1_2A.add(Dense(1, name='output'))\n",
        "model1_2A.summary()"
      ],
      "metadata": {
        "colab": {
          "base_uri": "https://localhost:8080/"
        },
        "id": "TCgY6332Evvz",
        "outputId": "0438820f-84aa-4ccb-da0f-54ef2ee79002"
      },
      "execution_count": 17,
      "outputs": [
        {
          "output_type": "stream",
          "name": "stdout",
          "text": [
            "Model: \"sequential_1\"\n",
            "_________________________________________________________________\n",
            " Layer (type)                Output Shape              Param #   \n",
            "=================================================================\n",
            " dense_1 (Dense)             (None, 3)                 12        \n",
            "                                                                 \n",
            " dense_2 (Dense)             (None, 32)                128       \n",
            "                                                                 \n",
            " dense_3 (Dense)             (None, 64)                2112      \n",
            "                                                                 \n",
            " dense_4 (Dense)             (None, 32)                2080      \n",
            "                                                                 \n",
            " output (Dense)              (None, 1)                 33        \n",
            "                                                                 \n",
            "=================================================================\n",
            "Total params: 4,365\n",
            "Trainable params: 4,365\n",
            "Non-trainable params: 0\n",
            "_________________________________________________________________\n"
          ]
        }
      ]
    },
    {
      "cell_type": "code",
      "source": [
        "model1_2A.compile(optimizer='adam',\n",
        "              loss=binary_crossentropy,\n",
        "              metrics=[\n",
        "                       tf.keras.metrics.RootMeanSquaredError(),\n",
        "                       tf.keras.metrics.MeanAbsoluteError(),\n",
        "                       ])\n",
        "\n",
        "mlp_model = model1_2A.fit(x_train, y_train, epochs=50, batch_size=50, verbose=1)\n",
        "\n",
        "y_pred1_2A = model1_2A.predict(x_test)"
      ],
      "metadata": {
        "colab": {
          "base_uri": "https://localhost:8080/"
        },
        "id": "RsQl7aHnEyv8",
        "outputId": "bfb55475-11e9-4de0-96f3-5eaf057fa5f2"
      },
      "execution_count": 18,
      "outputs": [
        {
          "output_type": "stream",
          "name": "stdout",
          "text": [
            "Epoch 1/50\n",
            "745/745 [==============================] - 2s 2ms/step - loss: 0.4724 - root_mean_squared_error: 0.1669 - mean_absolute_error: 0.0954\n",
            "Epoch 2/50\n",
            "745/745 [==============================] - 2s 2ms/step - loss: 0.4503 - root_mean_squared_error: 0.1414 - mean_absolute_error: 0.0852\n",
            "Epoch 3/50\n",
            "745/745 [==============================] - 2s 2ms/step - loss: 0.4148 - root_mean_squared_error: 0.0808 - mean_absolute_error: 0.0554\n",
            "Epoch 4/50\n",
            "745/745 [==============================] - 2s 2ms/step - loss: 0.4357 - root_mean_squared_error: 0.1117 - mean_absolute_error: 0.0702\n",
            "Epoch 5/50\n",
            "745/745 [==============================] - 2s 2ms/step - loss: 0.4095 - root_mean_squared_error: 0.0632 - mean_absolute_error: 0.0418\n",
            "Epoch 6/50\n",
            "745/745 [==============================] - 2s 2ms/step - loss: 0.4049 - root_mean_squared_error: 0.0527 - mean_absolute_error: 0.0341\n",
            "Epoch 7/50\n",
            "745/745 [==============================] - 2s 2ms/step - loss: 0.4616 - root_mean_squared_error: 0.1503 - mean_absolute_error: 0.0983\n",
            "Epoch 8/50\n",
            "745/745 [==============================] - 2s 2ms/step - loss: 0.4601 - root_mean_squared_error: 0.1586 - mean_absolute_error: 0.0983\n",
            "Epoch 9/50\n",
            "745/745 [==============================] - 2s 2ms/step - loss: 0.4573 - root_mean_squared_error: 0.1370 - mean_absolute_error: 0.0891\n",
            "Epoch 10/50\n",
            "745/745 [==============================] - 2s 2ms/step - loss: 0.4547 - root_mean_squared_error: 0.1375 - mean_absolute_error: 0.0768\n",
            "Epoch 11/50\n",
            "745/745 [==============================] - 2s 2ms/step - loss: 0.4163 - root_mean_squared_error: 0.0804 - mean_absolute_error: 0.0572\n",
            "Epoch 12/50\n",
            "745/745 [==============================] - 2s 2ms/step - loss: 0.4016 - root_mean_squared_error: 0.0434 - mean_absolute_error: 0.0306\n",
            "Epoch 13/50\n",
            "745/745 [==============================] - 2s 2ms/step - loss: 0.4139 - root_mean_squared_error: 0.0736 - mean_absolute_error: 0.0465\n",
            "Epoch 14/50\n",
            "745/745 [==============================] - 2s 2ms/step - loss: 0.3977 - root_mean_squared_error: 0.0358 - mean_absolute_error: 0.0254\n",
            "Epoch 15/50\n",
            "745/745 [==============================] - 2s 2ms/step - loss: 0.3975 - root_mean_squared_error: 0.0340 - mean_absolute_error: 0.0244\n",
            "Epoch 16/50\n",
            "745/745 [==============================] - 1s 2ms/step - loss: 0.4076 - root_mean_squared_error: 0.0652 - mean_absolute_error: 0.0420\n",
            "Epoch 17/50\n",
            "745/745 [==============================] - 2s 2ms/step - loss: 0.3990 - root_mean_squared_error: 0.0436 - mean_absolute_error: 0.0300\n",
            "Epoch 18/50\n",
            "745/745 [==============================] - 2s 2ms/step - loss: 0.3979 - root_mean_squared_error: 0.0434 - mean_absolute_error: 0.0303\n",
            "Epoch 19/50\n",
            "745/745 [==============================] - 2s 2ms/step - loss: 0.4069 - root_mean_squared_error: 0.0642 - mean_absolute_error: 0.0384\n",
            "Epoch 20/50\n",
            "745/745 [==============================] - 2s 2ms/step - loss: 0.3933 - root_mean_squared_error: 0.0311 - mean_absolute_error: 0.0230\n",
            "Epoch 21/50\n",
            "745/745 [==============================] - 1s 2ms/step - loss: 0.3996 - root_mean_squared_error: 0.0546 - mean_absolute_error: 0.0349\n",
            "Epoch 22/50\n",
            "745/745 [==============================] - 1s 2ms/step - loss: 0.3903 - root_mean_squared_error: 0.0298 - mean_absolute_error: 0.0211\n",
            "Epoch 23/50\n",
            "745/745 [==============================] - 2s 2ms/step - loss: 0.3938 - root_mean_squared_error: 0.0423 - mean_absolute_error: 0.0259\n",
            "Epoch 24/50\n",
            "745/745 [==============================] - 2s 3ms/step - loss: 0.3889 - root_mean_squared_error: 0.0265 - mean_absolute_error: 0.0190\n",
            "Epoch 25/50\n",
            "745/745 [==============================] - 2s 2ms/step - loss: 0.3887 - root_mean_squared_error: 0.0259 - mean_absolute_error: 0.0188\n",
            "Epoch 26/50\n",
            "745/745 [==============================] - 2s 2ms/step - loss: 0.3939 - root_mean_squared_error: 0.0444 - mean_absolute_error: 0.0259\n",
            "Epoch 27/50\n",
            "745/745 [==============================] - 2s 2ms/step - loss: 0.3970 - root_mean_squared_error: 0.0546 - mean_absolute_error: 0.0284\n",
            "Epoch 28/50\n",
            "745/745 [==============================] - 2s 2ms/step - loss: 0.3943 - root_mean_squared_error: 0.0444 - mean_absolute_error: 0.0263\n",
            "Epoch 29/50\n",
            "745/745 [==============================] - 2s 2ms/step - loss: 0.3880 - root_mean_squared_error: 0.0229 - mean_absolute_error: 0.0169\n",
            "Epoch 30/50\n",
            "745/745 [==============================] - 1s 2ms/step - loss: 0.3880 - root_mean_squared_error: 0.0232 - mean_absolute_error: 0.0172\n",
            "Epoch 31/50\n",
            "745/745 [==============================] - 2s 2ms/step - loss: 0.4293 - root_mean_squared_error: 0.1144 - mean_absolute_error: 0.0662\n",
            "Epoch 32/50\n",
            "745/745 [==============================] - 2s 2ms/step - loss: 0.4199 - root_mean_squared_error: 0.1008 - mean_absolute_error: 0.0529\n",
            "Epoch 33/50\n",
            "745/745 [==============================] - 2s 2ms/step - loss: 0.3887 - root_mean_squared_error: 0.0261 - mean_absolute_error: 0.0194\n",
            "Epoch 34/50\n",
            "745/745 [==============================] - 2s 2ms/step - loss: 0.3882 - root_mean_squared_error: 0.0244 - mean_absolute_error: 0.0180\n",
            "Epoch 35/50\n",
            "745/745 [==============================] - 2s 2ms/step - loss: 0.3883 - root_mean_squared_error: 0.0245 - mean_absolute_error: 0.0179\n",
            "Epoch 36/50\n",
            "745/745 [==============================] - 2s 2ms/step - loss: 0.3879 - root_mean_squared_error: 0.0230 - mean_absolute_error: 0.0170\n",
            "Epoch 37/50\n",
            "745/745 [==============================] - 2s 2ms/step - loss: 0.3881 - root_mean_squared_error: 0.0240 - mean_absolute_error: 0.0176\n",
            "Epoch 38/50\n",
            "745/745 [==============================] - 2s 2ms/step - loss: 0.3959 - root_mean_squared_error: 0.0529 - mean_absolute_error: 0.0297\n",
            "Epoch 39/50\n",
            "745/745 [==============================] - 2s 2ms/step - loss: 0.3891 - root_mean_squared_error: 0.0282 - mean_absolute_error: 0.0198\n",
            "Epoch 40/50\n",
            "745/745 [==============================] - 2s 2ms/step - loss: 0.3877 - root_mean_squared_error: 0.0227 - mean_absolute_error: 0.0168\n",
            "Epoch 41/50\n",
            "745/745 [==============================] - 2s 2ms/step - loss: 0.3877 - root_mean_squared_error: 0.0226 - mean_absolute_error: 0.0168\n",
            "Epoch 42/50\n",
            "745/745 [==============================] - 2s 2ms/step - loss: 0.3878 - root_mean_squared_error: 0.0228 - mean_absolute_error: 0.0169\n",
            "Epoch 43/50\n",
            "745/745 [==============================] - 2s 2ms/step - loss: 0.3935 - root_mean_squared_error: 0.0453 - mean_absolute_error: 0.0259\n",
            "Epoch 44/50\n",
            "745/745 [==============================] - 2s 2ms/step - loss: 0.3938 - root_mean_squared_error: 0.0477 - mean_absolute_error: 0.0257\n",
            "Epoch 45/50\n",
            "745/745 [==============================] - 1s 2ms/step - loss: 0.3880 - root_mean_squared_error: 0.0231 - mean_absolute_error: 0.0172\n",
            "Epoch 46/50\n",
            "745/745 [==============================] - 2s 2ms/step - loss: 0.3876 - root_mean_squared_error: 0.0222 - mean_absolute_error: 0.0164\n",
            "Epoch 47/50\n",
            "745/745 [==============================] - 2s 3ms/step - loss: 0.3876 - root_mean_squared_error: 0.0221 - mean_absolute_error: 0.0163\n",
            "Epoch 48/50\n",
            "745/745 [==============================] - 2s 2ms/step - loss: 0.3876 - root_mean_squared_error: 0.0224 - mean_absolute_error: 0.0165\n",
            "Epoch 49/50\n",
            "745/745 [==============================] - 2s 2ms/step - loss: 0.3877 - root_mean_squared_error: 0.0225 - mean_absolute_error: 0.0166\n",
            "Epoch 50/50\n",
            "745/745 [==============================] - 2s 2ms/step - loss: 0.3877 - root_mean_squared_error: 0.0225 - mean_absolute_error: 0.0166\n"
          ]
        }
      ]
    },
    {
      "cell_type": "code",
      "source": [
        "r2_mlp = r2_score(y_test, y_pred1_2A)\n",
        "print(r2_mlp)"
      ],
      "metadata": {
        "colab": {
          "base_uri": "https://localhost:8080/"
        },
        "id": "-JsoMV5TE5ga",
        "outputId": "ee8617da-e28d-4aa0-f9c2-3487fcbf2dc3"
      },
      "execution_count": 19,
      "outputs": [
        {
          "output_type": "stream",
          "name": "stdout",
          "text": [
            "0.9952142317682233\n"
          ]
        }
      ]
    },
    {
      "cell_type": "code",
      "source": [
        "print(f\" the predicted values for the mlp model is: {y_pred1_2A}\")"
      ],
      "metadata": {
        "colab": {
          "base_uri": "https://localhost:8080/"
        },
        "id": "zls8EVmoE8Qp",
        "outputId": "1f17075d-4468-47ec-f28b-606a141f23fd"
      },
      "execution_count": 20,
      "outputs": [
        {
          "output_type": "stream",
          "name": "stdout",
          "text": [
            " the predicted values for the mlp model is: [[0.22559515]\n",
            " [0.97398174]\n",
            " [0.03816205]\n",
            " [0.06860422]\n",
            " [0.6232672 ]\n",
            " [0.02478287]\n",
            " [0.75677097]\n",
            " [0.11410046]\n",
            " [0.4626762 ]\n",
            " [0.2971997 ]\n",
            " [0.5816859 ]\n",
            " [0.04187462]\n",
            " [0.1633722 ]\n",
            " [0.357289  ]\n",
            " [0.45159817]\n",
            " [0.39780128]\n",
            " [0.47420323]\n",
            " [0.8710221 ]\n",
            " [0.01839267]\n",
            " [0.43672514]\n",
            " [0.06255247]\n",
            " [0.6672971 ]\n",
            " [0.90735734]\n",
            " [0.813557  ]\n",
            " [0.3098313 ]\n",
            " [0.3278647 ]\n",
            " [0.48692417]\n",
            " [0.48456848]\n",
            " [0.23686081]\n",
            " [0.17450307]\n",
            " [0.3165763 ]\n",
            " [0.97952545]\n",
            " [0.01200889]\n",
            " [0.12721366]\n",
            " [0.13510591]\n",
            " [0.9854983 ]\n",
            " [0.97962976]\n",
            " [0.15654367]]\n"
          ]
        }
      ]
    },
    {
      "cell_type": "code",
      "source": [
        "#from pandas import ExcelWriter\n",
        "\n",
        "#writer = ExcelWriter('filtered_data_2.xlsx')\n",
        "#df.to_excel(writer)\n",
        "#writer.save()"
      ],
      "metadata": {
        "id": "iURTEMQEFLbC"
      },
      "execution_count": 21,
      "outputs": []
    },
    {
      "cell_type": "code",
      "source": [
        "#def plot_loss(xgboost_model):\n",
        "  #plt.plot(xgboost_model.history['rmse'], label='rmse')\n",
        "  #plt.plot(xgboost_model.history['mae'], label='mae')\n",
        "  #plt.plot(xgboost_model.history['r2'], label='r2')\n",
        "  #plt.ylim([0, 10])\n",
        "  #plt.xlabel('Epoch')\n",
        "  #plt.ylabel('Error')\n",
        "\n",
        "#plot_loss(xgboost_model)"
      ],
      "metadata": {
        "id": "3HQ6pZIFQBcc"
      },
      "execution_count": 22,
      "outputs": []
    },
    {
      "cell_type": "code",
      "source": [
        "def plot_loss(rbf_model):\n",
        "  plt.plot(rbf_model.history['root_mean_squared_error'], label='rmse')\n",
        "  plt.plot(rbf_model.history['mean_absolute_error'], label='mae')\n",
        "  #plt.plot(r2.history['r2'], label='r2')\n",
        "  plt.ylim([0, 10])\n",
        "  plt.xlabel('Epoch')\n",
        "  plt.ylabel('Error')\n",
        "\n",
        "plot_loss(rbf_model)"
      ],
      "metadata": {
        "id": "KAkiuHw1Sd0H",
        "colab": {
          "base_uri": "https://localhost:8080/",
          "height": 283
        },
        "outputId": "1fcd27a0-f7da-4d48-a0cd-d6fd1d635dd8"
      },
      "execution_count": 23,
      "outputs": [
        {
          "output_type": "display_data",
          "data": {
            "text/plain": [
              "<Figure size 432x288 with 1 Axes>"
            ],
            "image/png": "[encoded data removed]"
          },
          "metadata": {
            "needs_background": "light"
          }
        }
      ]
    },
    {
      "cell_type": "code",
      "source": [
        "def plot_loss(mlp_model):\n",
        "  plt.plot(mlp_model.history['root_mean_squared_error'], label='rmse')\n",
        "  plt.plot(mlp_model.history['mean_absolute_error'], label='mae')\n",
        " # plt.plot(r2_mlp.history['r2'], label='r2')\n",
        "  plt.ylim([0, 10])\n",
        "  plt.xlabel('Epoch')\n",
        "  plt.ylabel('Error')\n",
        "\n",
        "plot_loss(mlp_model)"
      ],
      "metadata": {
        "id": "5RgoiZ63SeCM",
        "colab": {
          "base_uri": "https://localhost:8080/",
          "height": 283
        },
        "outputId": "0b946afa-d19f-4db4-dafe-ab79f51a58f7"
      },
      "execution_count": 24,
      "outputs": [
        {
          "output_type": "display_data",
          "data": {
            "text/plain": [
              "<Figure size 432x288 with 1 Axes>"
            ],
            "image/png": "[encoded data removed]"
          },
          "metadata": {
            "needs_background": "light"
          }
        }
      ]
    },
    {
      "cell_type": "code",
      "source": [
        "xgboost_predicted = best_xgb_model.predict(data_x_)"
      ],
      "metadata": {
        "id": "uivemHMoZJ1N"
      },
      "execution_count": 25,
      "outputs": []
    },
    {
      "cell_type": "code",
      "source": [
        "rbf_predicted = model1_1A.predict(data_x)"
      ],
      "metadata": {
        "id": "sPRlV9ZbZJ9g"
      },
      "execution_count": 26,
      "outputs": []
    },
    {
      "cell_type": "code",
      "source": [
        "mlp_predicted = model1_2A.predict(data_x)"
      ],
      "metadata": {
        "id": "ojvO3EOdZKHv"
      },
      "execution_count": 27,
      "outputs": []
    },
    {
      "cell_type": "code",
      "source": [
        "#plt.plot(1, 1, color='#58b970', label='1-1 line')\n",
        "x = [0, 500, 1000, 1500, 2000]\n",
        "y = [0, 500, 1000, 1500, 2000]\n",
        "plt.plot(x, y, color='#58b970', label='1-1 line')\n",
        "plt.scatter(data_y_, xgboost_predicted, c='#ef5423', label='Scatter Plot')\n",
        "\n",
        "plt.xlabel('actual output')\n",
        "plt.ylabel('xgboost predicted output')\n",
        "plt.legend()\n",
        "plt.show()"
      ],
      "metadata": {
        "colab": {
          "base_uri": "https://localhost:8080/",
          "height": 279
        },
        "id": "-FzuaCJqYLR3",
        "outputId": "61bed9a6-af29-4e77-b553-2a91c4921750"
      },
      "execution_count": 28,
      "outputs": [
        {
          "output_type": "display_data",
          "data": {
            "text/plain": [
              "<Figure size 432x288 with 1 Axes>"
            ],
            "image/png": "[encoded data removed]"
          },
          "metadata": {
            "needs_background": "light"
          }
        }
      ]
    },
    {
      "cell_type": "code",
      "source": [
        "x = [0.0, 0.2, 0.4, 0.6, 0.8, 1.0]\n",
        "y = [0.0, 0.2, 0.4, 0.6, 0.8, 1.0]\n",
        "plt.plot(x, y, color='#58b970', label='1-1 line')\n",
        "\n",
        "plt.scatter(data_y, rbf_predicted, c='#ef5423', label='Scatter Plot')\n",
        "\n",
        "plt.xlabel('actual output')\n",
        "plt.ylabel('rbf predicted output')\n",
        "plt.legend()\n",
        "plt.show()"
      ],
      "metadata": {
        "colab": {
          "base_uri": "https://localhost:8080/",
          "height": 279
        },
        "id": "dcC0Q4xGa-6_",
        "outputId": "964eaf0f-e816-4286-e81b-6853da8cf40c"
      },
      "execution_count": 29,
      "outputs": [
        {
          "output_type": "display_data",
          "data": {
            "text/plain": [
              "<Figure size 432x288 with 1 Axes>"
            ],
            "image/png": "[encoded data removed]"
          },
          "metadata": {
            "needs_background": "light"
          }
        }
      ]
    },
    {
      "cell_type": "code",
      "source": [
        "x = [0.0, 0.2, 0.4, 0.6, 0.8, 1.0]\n",
        "y = [0.0, 0.2, 0.4, 0.6, 0.8, 1.0]\n",
        "plt.plot(x, y, color='#58b970', label='1-1 line')\n",
        "\n",
        "plt.scatter(data_y, mlp_predicted, c='#ef5423', label='Scatter Plot')\n",
        "\n",
        "plt.xlabel('actual output')\n",
        "plt.ylabel('mlp predicted output')\n",
        "plt.legend()\n",
        "plt.show()"
      ],
      "metadata": {
        "colab": {
          "base_uri": "https://localhost:8080/",
          "height": 279
        },
        "id": "iUs68PNra_58",
        "outputId": "2d7063af-b1a4-4e65-aca8-e65246dfa922"
      },
      "execution_count": 30,
      "outputs": [
        {
          "output_type": "display_data",
          "data": {
            "text/plain": [
              "<Figure size 432x288 with 1 Axes>"
            ],
            "image/png": "[encoded data removed]"
          },
          "metadata": {
            "needs_background": "light"
          }
        }
      ]
    },
    {
      "cell_type": "code",
      "source": [
        "import seaborn as sns\n",
        "sns.histplot(xgboost_predicted)"
      ],
      "metadata": {
        "colab": {
          "base_uri": "https://localhost:8080/",
          "height": 282
        },
        "id": "TUrDPpxVkG82",
        "outputId": "9105518d-303b-46d5-d9c1-ab4795c93e68"
      },
      "execution_count": 31,
      "outputs": [
        {
          "output_type": "execute_result",
          "data": {
            "text/plain": [
              "<matplotlib.axes._subplots.AxesSubplot at 0x7f15c68278d0>"
            ]
          },
          "metadata": {},
          "execution_count": 31
        },
        {
          "output_type": "display_data",
          "data": {
            "text/plain": [
              "<Figure size 432x288 with 1 Axes>"
            ],
            "image/png": "[encoded data removed]"
          },
          "metadata": {
            "needs_background": "light"
          }
        }
      ]
    },
    {
      "cell_type": "code",
      "source": [
        "sns.displot(rbf_predicted)"
      ],
      "metadata": {
        "colab": {
          "base_uri": "https://localhost:8080/",
          "height": 386
        },
        "id": "4t7uabqhkG-9",
        "outputId": "5efd1fd9-4462-4784-8a7d-740b15fb0d6d"
      },
      "execution_count": 32,
      "outputs": [
        {
          "output_type": "execute_result",
          "data": {
            "text/plain": [
              "<seaborn.axisgrid.FacetGrid at 0x7f15c6766e10>"
            ]
          },
          "metadata": {},
          "execution_count": 32
        },
        {
          "output_type": "display_data",
          "data": {
            "text/plain": [
              "<Figure size 402.25x360 with 1 Axes>"
            ],
            "image/png": "[encoded data removed]"
          },
          "metadata": {
            "needs_background": "light"
          }
        }
      ]
    },
    {
      "cell_type": "code",
      "source": [
        "sns.displot(mlp_predicted)"
      ],
      "metadata": {
        "colab": {
          "base_uri": "https://localhost:8080/",
          "height": 386
        },
        "id": "7VH0Z2dQkHCr",
        "outputId": "cc827244-4c94-4207-d8c4-9284bcd66c52"
      },
      "execution_count": 33,
      "outputs": [
        {
          "output_type": "execute_result",
          "data": {
            "text/plain": [
              "<seaborn.axisgrid.FacetGrid at 0x7f15c61e9910>"
            ]
          },
          "metadata": {},
          "execution_count": 33
        },
        {
          "output_type": "display_data",
          "data": {
            "text/plain": [
              "<Figure size 402.25x360 with 1 Axes>"
            ],
            "image/png": "[encoded data removed]"
          },
          "metadata": {
            "needs_background": "light"
          }
        }
      ]
    },
    {
      "cell_type": "code",
      "source": [
        "data_x_"
      ],
      "metadata": {
        "colab": {
          "base_uri": "https://localhost:8080/"
        },
        "id": "262V8zx241P9",
        "outputId": "6a7cb990-2138-462f-8b16-6713cda58027"
      },
      "execution_count": 34,
      "outputs": [
        {
          "output_type": "execute_result",
          "data": {
            "text/plain": [
              "array([[  3.65238186, 191.27473109,   1.77366832],\n",
              "       [  4.00556021, 202.14916301,   1.55633544],\n",
              "       [  4.18138571, 237.30573411,   1.35934096],\n",
              "       ...,\n",
              "       [ 21.0666296 , 216.15229219,  16.87581105],\n",
              "       [ 22.27134905, 214.69578498,  17.76205676],\n",
              "       [ 22.75567935, 203.1640966 ,  17.92966671]])"
            ]
          },
          "metadata": {},
          "execution_count": 34
        }
      ]
    },
    {
      "cell_type": "code",
      "source": [
        "d = {'wind speed': data_x_[:, 0], 'power output':xgboost_predicted }\n",
        "e = pd.DataFrame(data=d)\n",
        "e"
      ],
      "metadata": {
        "colab": {
          "base_uri": "https://localhost:8080/",
          "height": 424
        },
        "id": "KeWwTvQB0qc3",
        "outputId": "4af17fdb-4950-4675-e219-a14457d30890"
      },
      "execution_count": 35,
      "outputs": [
        {
          "output_type": "execute_result",
          "data": {
            "text/plain": [
              "       wind speed  power output\n",
              "0        3.652382      9.716474\n",
              "1        4.005560     39.847260\n",
              "2        4.181386     46.928082\n",
              "3        4.154462     54.208675\n",
              "4        3.826013     18.829588\n",
              "...           ...           ...\n",
              "37242   13.102957   2019.781494\n",
              "37243   13.522677   2011.738647\n",
              "37244   21.066630   2068.450195\n",
              "37245   22.271349   2097.968994\n",
              "37246   22.755679   2084.464355\n",
              "\n",
              "[37247 rows x 2 columns]"
            ],
            "text/html": [
              "\n",
              "  <div id=\"df-e93a113a-bda8-4081-b5c1-b9affc368112\">\n",
              "    <div class=\"colab-df-container\">\n",
              "      <div>\n",
              "<style scoped>\n",
              "    .dataframe tbody tr th:only-of-type {\n",
              "        vertical-align: middle;\n",
              "    }\n",
              "\n",
              "    .dataframe tbody tr th {\n",
              "        vertical-align: top;\n",
              "    }\n",
              "\n",
              "    .dataframe thead th {\n",
              "        text-align: right;\n",
              "    }\n",
              "</style>\n",
              "<table border=\"1\" class=\"dataframe\">\n",
              "  <thead>\n",
              "    <tr style=\"text-align: right;\">\n",
              "      <th></th>\n",
              "      <th>wind speed</th>\n",
              "      <th>power output</th>\n",
              "    </tr>\n",
              "  </thead>\n",
              "  <tbody>\n",
              "    <tr>\n",
              "      <th>0</th>\n",
              "      <td>3.652382</td>\n",
              "      <td>9.716474</td>\n",
              "    </tr>\n",
              "    <tr>\n",
              "      <th>1</th>\n",
              "      <td>4.005560</td>\n",
              "      <td>39.847260</td>\n",
              "    </tr>\n",
              "    <tr>\n",
              "      <th>2</th>\n",
              "      <td>4.181386</td>\n",
              "      <td>46.928082</td>\n",
              "    </tr>\n",
              "    <tr>\n",
              "      <th>3</th>\n",
              "      <td>4.154462</td>\n",
              "      <td>54.208675</td>\n",
              "    </tr>\n",
              "    <tr>\n",
              "      <th>4</th>\n",
              "      <td>3.826013</td>\n",
              "      <td>18.829588</td>\n",
              "    </tr>\n",
              "    <tr>\n",
              "      <th>...</th>\n",
              "      <td>...</td>\n",
              "      <td>...</td>\n",
              "    </tr>\n",
              "    <tr>\n",
              "      <th>37242</th>\n",
              "      <td>13.102957</td>\n",
              "      <td>2019.781494</td>\n",
              "    </tr>\n",
              "    <tr>\n",
              "      <th>37243</th>\n",
              "      <td>13.522677</td>\n",
              "      <td>2011.738647</td>\n",
              "    </tr>\n",
              "    <tr>\n",
              "      <th>37244</th>\n",
              "      <td>21.066630</td>\n",
              "      <td>2068.450195</td>\n",
              "    </tr>\n",
              "    <tr>\n",
              "      <th>37245</th>\n",
              "      <td>22.271349</td>\n",
              "      <td>2097.968994</td>\n",
              "    </tr>\n",
              "    <tr>\n",
              "      <th>37246</th>\n",
              "      <td>22.755679</td>\n",
              "      <td>2084.464355</td>\n",
              "    </tr>\n",
              "  </tbody>\n",
              "</table>\n",
              "<p>37247 rows × 2 columns</p>\n",
              "</div>\n",
              "      <button class=\"colab-df-convert\" onclick=\"convertToInteractive('df-e93a113a-bda8-4081-b5c1-b9affc368112')\"\n",
              "              title=\"Convert this dataframe to an interactive table.\"\n",
              "              style=\"display:none;\">\n",
              "        \n",
              "  <svg xmlns=\"http://www.w3.org/2000/svg\" height=\"24px\"viewBox=\"0 0 24 24\"\n",
              "       width=\"24px\">\n",
              "    <path d=\"M0 0h24v24H0V0z\" fill=\"none\"/>\n",
              "    <path d=\"M18.56 5.44l.94 2.06.94-2.06 2.06-.94-2.06-.94-.94-2.06-.94 2.06-2.06.94zm-11 1L8.5 8.5l.94-2.06 2.06-.94-2.06-.94L8.5 2.5l-.94 2.06-2.06.94zm10 10l.94 2.06.94-2.06 2.06-.94-2.06-.94-.94-2.06-.94 2.06-2.06.94z\"/><path d=\"M17.41 7.96l-1.37-1.37c-.4-.4-.92-.59-1.43-.59-.52 0-1.04.2-1.43.59L10.3 9.45l-7.72 7.72c-.78.78-.78 2.05 0 2.83L4 21.41c.39.39.9.59 1.41.59.51 0 1.02-.2 1.41-.59l7.78-7.78 2.81-2.81c.8-.78.8-2.07 0-2.86zM5.41 20L4 18.59l7.72-7.72 1.47 1.35L5.41 20z\"/>\n",
              "  </svg>\n",
              "      </button>\n",
              "      \n",
              "  <style>\n",
              "    .colab-df-container {\n",
              "      display:flex;\n",
              "      flex-wrap:wrap;\n",
              "      gap: 12px;\n",
              "    }\n",
              "\n",
              "    .colab-df-convert {\n",
              "      background-color: #E8F0FE;\n",
              "      border: none;\n",
              "      border-radius: 50%;\n",
              "      cursor: pointer;\n",
              "      display: none;\n",
              "      fill: #1967D2;\n",
              "      height: 32px;\n",
              "      padding: 0 0 0 0;\n",
              "      width: 32px;\n",
              "    }\n",
              "\n",
              "    .colab-df-convert:hover {\n",
              "      background-color: #E2EBFA;\n",
              "      box-shadow: 0px 1px 2px rgba(60, 64, 67, 0.3), 0px 1px 3px 1px rgba(60, 64, 67, 0.15);\n",
              "      fill: #174EA6;\n",
              "    }\n",
              "\n",
              "    [theme=dark] .colab-df-convert {\n",
              "      background-color: #3B4455;\n",
              "      fill: #D2E3FC;\n",
              "    }\n",
              "\n",
              "    [theme=dark] .colab-df-convert:hover {\n",
              "      background-color: #434B5C;\n",
              "      box-shadow: 0px 1px 3px 1px rgba(0, 0, 0, 0.15);\n",
              "      filter: drop-shadow(0px 1px 2px rgba(0, 0, 0, 0.3));\n",
              "      fill: #FFFFFF;\n",
              "    }\n",
              "  </style>\n",
              "\n",
              "      <script>\n",
              "        const buttonEl =\n",
              "          document.querySelector('#df-e93a113a-bda8-4081-b5c1-b9affc368112 button.colab-df-convert');\n",
              "        buttonEl.style.display =\n",
              "          google.colab.kernel.accessAllowed ? 'block' : 'none';\n",
              "\n",
              "        async function convertToInteractive(key) {\n",
              "          const element = document.querySelector('#df-e93a113a-bda8-4081-b5c1-b9affc368112');\n",
              "          const dataTable =\n",
              "            await google.colab.kernel.invokeFunction('convertToInteractive',\n",
              "                                                     [key], {});\n",
              "          if (!dataTable) return;\n",
              "\n",
              "          const docLinkHtml = 'Like what you see? Visit the ' +\n",
              "            '<a target=\"_blank\" href=https://colab.research.google.com/notebooks/data_table.ipynb>data table notebook</a>'\n",
              "            + ' to learn more about interactive tables.';\n",
              "          element.innerHTML = '';\n",
              "          dataTable['output_type'] = 'display_data';\n",
              "          await google.colab.output.renderOutput(dataTable, element);\n",
              "          const docLink = document.createElement('div');\n",
              "          docLink.innerHTML = docLinkHtml;\n",
              "          element.appendChild(docLink);\n",
              "        }\n",
              "      </script>\n",
              "    </div>\n",
              "  </div>\n",
              "  "
            ]
          },
          "metadata": {},
          "execution_count": 35
        }
      ]
    },
    {
      "cell_type": "code",
      "source": [
        "from pandas import ExcelWriter\n",
        "\n",
        "writer = ExcelWriter('model_data_2.xlsx')\n",
        "e.to_excel(writer)\n",
        "writer.save()"
      ],
      "metadata": {
        "id": "3V-2GTKA5gVN"
      },
      "execution_count": 36,
      "outputs": []
    }
  ]
}