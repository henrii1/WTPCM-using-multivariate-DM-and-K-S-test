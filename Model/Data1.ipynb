{
  "cells": [
    {
      "cell_type": "code",
      "execution_count": 1,
      "metadata": {
        "id": "u13hCMhVIktt"
      },
      "outputs": [],
      "source": [
        "!pip install -q seaborn"
      ]
    },
    {
      "cell_type": "code",
      "execution_count": 2,
      "metadata": {
        "id": "kiVGlOxIIkGg"
      },
      "outputs": [],
      "source": [
        "import matplotlib.pyplot as plt"
      ]
    },
    {
      "cell_type": "code",
      "execution_count": 3,
      "metadata": {
        "id": "5yUKprnz9xKL"
      },
      "outputs": [],
      "source": [
        "import tensorflow as tf\n",
        "import scipy as sc\n",
        "import pandas as pd\n",
        "import numpy as np\n",
        "import time\n",
        "from sklearn.metrics import *\n",
        "import xgboost as xgb\n",
        "from sklearn.preprocessing import MinMaxScaler\n",
        "from keras.losses import binary_crossentropy\n",
        "from keras.layers import Dense, Flatten, Layer\n",
        "from tensorflow.keras.models import Sequential\n",
        "from tensorflow.keras.layers import Dense, Dropout\n",
        "from sklearn.metrics import r2_score\n",
        "from keras import backend as K\n",
        "from sklearn.model_selection import train_test_split"
      ]
    },
    {
      "cell_type": "code",
      "execution_count": 4,
      "metadata": {
        "id": "TXwnTEAB6Xwx"
      },
      "outputs": [],
      "source": [
        "class RBFLayer(Layer):\n",
        "    def __init__(self, units, gamma, **kwargs):\n",
        "        super(RBFLayer, self).__init__(**kwargs)\n",
        "        self.units = units\n",
        "        self.gamma = K.cast_to_floatx(gamma)\n",
        "\n",
        "    def build(self, input_shape):\n",
        "#         print(input_shape)\n",
        "#         print(self.units)\n",
        "        self.mu = self.add_weight(name='mu',\n",
        "                                  shape=(int(input_shape[1]), self.units),\n",
        "                                  initializer='uniform',\n",
        "                                  trainable=True)\n",
        "        super(RBFLayer, self).build(input_shape)\n",
        "\n",
        "    def call(self, inputs):\n",
        "        diff = K.expand_dims(inputs) - self.mu\n",
        "        l2 = K.sum(K.pow(diff, 2), axis=1)\n",
        "        res = K.exp(-1 * self.gamma * l2)\n",
        "        return res\n",
        "\n",
        "    def compute_output_shape(self, input_shape):\n",
        "        return (input_shape[0], self.units)"
      ]
    },
    {
      "cell_type": "code",
      "execution_count": 5,
      "metadata": {
        "id": "9A-ZzC3A6ZGI"
      },
      "outputs": [],
      "source": [
        "data_dir = 'https://github.com/henrii1/Wind-Turbine-power-prediction-and-monitoring-using-XGboost-and-quantile-regression/blob/main/data/kelmarsh_02.xlsx?raw=true'\n",
        "data = pd.read_excel(data_dir)\n",
        "data.isna().sum()\n",
        "\n",
        "def outlier_remover(dat, prop, min, max):\n",
        "    d = dat\n",
        "    q_low = d[prop].quantile(min)\n",
        "    q_high = d[prop].quantile(max)\n",
        "    return d[(d[prop]<q_high) & (d[prop]>q_low)]\n",
        "\n",
        "d1 = {}\n",
        "step = 50\n",
        "i = 1\n",
        "for x in range(20, 3100, step):\n",
        "    d1[i] = data.iloc[((data['power']>=x)& (data['power']<x+step)).values]\n",
        "    i = i + 1\n",
        "\n",
        "d1[-2] = data.iloc[(data['power']>=2900).values]\n",
        "\n",
        "for x in range(1, 62):\n",
        "    if x <= 3:\n",
        "        F = 0.95\n",
        "    elif ((x > 3) and (x <= 10)):\n",
        "        F = 0.9\n",
        "    elif ((x > 10) and (x <= 20)):\n",
        "        F = 0.92\n",
        "    elif ((x > 20) and (x <= 30)):\n",
        "        F = 0.96\n",
        "    else:\n",
        "        F = 0.985\n",
        "    d1[x] = outlier_remover(d1[x], 'wind speed', 0.00001, F)\n",
        "\n",
        "\n",
        "df = pd.DataFrame()\n",
        "for infile in range (1, 62):\n",
        "    data = d1[infile]\n",
        "    df = df.append(data, ignore_index = True)\n",
        "\n",
        "\n"
      ]
    },
    {
      "cell_type": "code",
      "execution_count": 6,
      "metadata": {
        "id": "oUQWQLIhI6aI"
      },
      "outputs": [],
      "source": [
        "da = df.drop(columns=['date'])\n",
        "da.dropna()\n",
        "scaler = MinMaxScaler(feature_range =(0, 1))\n",
        "data_ = scaler.fit_transform(da)\n",
        "data_1 = np.array(da)\n",
        "data_x_ = data_1[:, :-1]\n",
        "data_y_ = data_1[:, -1]\n",
        "data_x = data_[:, :-1]\n",
        "data_y = data_[:, -1]\n",
        "\n",
        "x_train, x_test, y_train, y_test = train_test_split(data_x, data_y, test_size = 0.001, random_state = 1)\n",
        "x_train_, x_test_, y_train_, y_test_ = train_test_split(data_x_, data_y_, test_size = 0.001, random_state = 1)"
      ]
    },
    {
      "cell_type": "code",
      "execution_count": 7,
      "metadata": {
        "id": "M0qWwLYr6ZIt"
      },
      "outputs": [],
      "source": [
        "def eval_metrics(actual, pred):\n",
        "    rmse = np.sqrt(mean_squared_error(actual, pred))\n",
        "    mae = mean_absolute_error(actual, pred)\n",
        "    r2 = r2_score(actual, pred)\n",
        "    print(f'xgboost_RMSE:{rmse}')\n",
        "    print(f'xgboost_MAE:{mae}')\n",
        "    print(f'xgboost_R_SCORE:{r2}')"
      ]
    },
    {
      "cell_type": "code",
      "execution_count": 8,
      "metadata": {
        "colab": {
          "base_uri": "https://localhost:8080/"
        },
        "id": "nRcM0bOf6ZLR",
        "outputId": "981931b4-325c-466a-eca8-eeb132fbac34"
      },
      "outputs": [
        {
          "name": "stdout",
          "output_type": "stream",
          "text": [
            "[22:50:31] WARNING: /workspace/src/objective/regression_obj.cu:152: reg:linear is now deprecated in favor of reg:squarederror.\n",
            "xgboost_RMSE:50.72159063035891\n",
            "xgboost_MAE:39.87677118086397\n",
            "xgboost_R_SCORE:0.9954205086991087\n",
            " xgboost cummulative accuracy is: None\n"
          ]
        }
      ],
      "source": [
        "best_xgb_model = xgb.XGBRegressor(colsample_bytree=0.4,\n",
        "                 gamma=0,                 \n",
        "                 learning_rate=0.07,\n",
        "                 max_depth=3,\n",
        "                 min_child_weight=1.5,\n",
        "                 n_estimators=10000,                                                                    \n",
        "                 reg_alpha=0.75,\n",
        "                 reg_lambda=0.45,\n",
        "                 subsample=0.6,\n",
        "                 seed=42)\n",
        "\n",
        "\n",
        "best_xgb_model.fit(x_train_,y_train_)\n",
        "pred1 = best_xgb_model.predict(x_test_)\n",
        "\n",
        "xgboost_model = eval_metrics(y_test_, pred1)\n",
        "print(f' xgboost cummulative accuracy is: {xgboost_model}')"
      ]
    },
    {
      "cell_type": "code",
      "execution_count": 9,
      "metadata": {
        "colab": {
          "base_uri": "https://localhost:8080/"
        },
        "id": "QZpMwj02KAbk",
        "outputId": "0429ece1-9c8a-41a2-f555-3ff850a884b7"
      },
      "outputs": [
        {
          "name": "stdout",
          "output_type": "stream",
          "text": [
            "[22:52:49] WARNING: /workspace/src/objective/regression_obj.cu:152: reg:linear is now deprecated in favor of reg:squarederror.\n"
          ]
        }
      ],
      "source": [
        "best_xgb_model_ = xgb.XGBRegressor(colsample_bytree=0.4,\n",
        "                 gamma=0,                 \n",
        "                 learning_rate=0.07,\n",
        "                 max_depth=3,\n",
        "                 min_child_weight=1.5,\n",
        "                 n_estimators=10000,                                                                    \n",
        "                 reg_alpha=0.75,\n",
        "                 reg_lambda=0.45,\n",
        "                 subsample=0.6,\n",
        "                 seed=42)\n",
        "best_xgb_model_.fit(x_train,y_train)\n",
        "pred1_ = best_xgb_model_.predict(x_test)\n",
        "\n",
        "#xgboost_model_ = eval_metrics(y_test_, pred1_)\n",
        "#print(f' xgboost cummulative accuracy is: {xgboost_model}')"
      ]
    },
    {
      "cell_type": "code",
      "execution_count": 10,
      "metadata": {
        "colab": {
          "base_uri": "https://localhost:8080/"
        },
        "id": "P1QsCyMn6ZNi",
        "outputId": "dffc3253-c025-4495-9919-90b97d023573"
      },
      "outputs": [
        {
          "name": "stdout",
          "output_type": "stream",
          "text": [
            "the ground truth result is: [1632.98130188   40.90395051 1955.60958862 1940.41240845 2036.59888916\n",
            " 1952.80290985  138.09537747 2007.07867025  652.25278015 1842.5414917\n",
            " 2057.21834717 1102.48840942  347.71608353  238.38979416  204.43778152\n",
            " 1050.54462891  782.04765015  484.25324478 1266.57329359  103.44570084\n",
            " 1173.66550293   28.44322672  144.32294464 1735.75958252   81.79648751\n",
            "  566.1793552   167.42646713 2057.29093018   54.64244995 1355.70979004\n",
            "  631.17392578  327.38682476 1977.54632568  142.44975233 2050.24880981\n",
            "  491.58210995  216.80513787  417.49911804  327.8371582   700.69975128\n",
            "  477.39680023  341.16752167  319.53642578 2041.31426392]\n"
          ]
        }
      ],
      "source": [
        "print(f'the ground truth result is: {y_test_}')"
      ]
    },
    {
      "cell_type": "code",
      "execution_count": 11,
      "metadata": {
        "colab": {
          "base_uri": "https://localhost:8080/"
        },
        "id": "17VRGxAdKGmV",
        "outputId": "99db3699-4eae-4fe7-f255-4721bdb7cc83"
      },
      "outputs": [
        {
          "name": "stdout",
          "output_type": "stream",
          "text": [
            "the ground truth result is: [0.78256331 0.01013892 0.93909211 0.93171893 0.97838549 0.9377304\n",
            " 0.05729306 0.96406324 0.30674558 0.88423513 0.98838939 0.52518533\n",
            " 0.15899424 0.10595266 0.08948024 0.49998389 0.36971785 0.22523765\n",
            " 0.604794   0.04048216 0.55971815 0.00409338 0.06031447 0.832428\n",
            " 0.02997866 0.26498554 0.07152355 0.9884246  0.0168044  0.64804015\n",
            " 0.2965188  0.14913114 0.9497351  0.05940566 0.98500799 0.22879337\n",
            " 0.09548048 0.19285071 0.14934963 0.33025048 0.22191112 0.15581709\n",
            " 0.14532238 0.98067324]\n"
          ]
        }
      ],
      "source": [
        "print(f'the ground truth result is: {y_test}')"
      ]
    },
    {
      "cell_type": "code",
      "execution_count": 12,
      "metadata": {
        "colab": {
          "base_uri": "https://localhost:8080/"
        },
        "id": "6ig_eo9O6ZRE",
        "outputId": "f15e279b-26ee-42d1-b09f-fc744aedb286"
      },
      "outputs": [
        {
          "name": "stdout",
          "output_type": "stream",
          "text": [
            "xgboost predicted results is: [ 8.29985440e-01  1.77671611e-02  9.56698060e-01  9.61145520e-01\n",
            "  9.46979105e-01  9.48828697e-01  6.03212416e-02  9.85562801e-01\n",
            "  3.29594433e-01  9.06087399e-01  9.80348229e-01  5.13096571e-01\n",
            "  1.51456267e-01  1.30639166e-01  8.83782506e-02  5.34057379e-01\n",
            "  4.02792037e-01  2.07528979e-01  5.35880804e-01  7.01160431e-02\n",
            "  6.09420657e-01 -4.75645065e-04  5.09648025e-02  7.93050408e-01\n",
            "  2.49950886e-02  2.27256447e-01  9.86234546e-02  9.77386892e-01\n",
            "  1.02862120e-02  6.48894072e-01  2.86471635e-01  1.75332725e-01\n",
            "  9.29428935e-01  5.14818132e-02  9.83720958e-01  2.13099808e-01\n",
            "  1.09760076e-01  1.88424677e-01  1.32155061e-01  3.44749600e-01\n",
            "  2.63763487e-01  1.92096978e-01  1.46066099e-01  9.74765480e-01]\n"
          ]
        }
      ],
      "source": [
        "print(f\"xgboost predicted results is: {pred1_}\")"
      ]
    },
    {
      "cell_type": "code",
      "execution_count": 13,
      "metadata": {
        "colab": {
          "base_uri": "https://localhost:8080/"
        },
        "id": "dKqzgw7q7Hmy",
        "outputId": "0a7febb6-2fb4-4f45-b4e2-2306b19fb1e9"
      },
      "outputs": [
        {
          "name": "stdout",
          "output_type": "stream",
          "text": [
            "Model: \"sequential\"\n",
            "_________________________________________________________________\n",
            " Layer (type)                Output Shape              Param #   \n",
            "=================================================================\n",
            " dense (Dense)               (None, 128)               512       \n",
            "                                                                 \n",
            " rbf_layer (RBFLayer)        (None, 64)                8192      \n",
            "                                                                 \n",
            " output (Dense)              (None, 1)                 65        \n",
            "                                                                 \n",
            "=================================================================\n",
            "Total params: 8,769\n",
            "Trainable params: 8,769\n",
            "Non-trainable params: 0\n",
            "_________________________________________________________________\n"
          ]
        }
      ],
      "source": [
        "model1_1A = Sequential()\n",
        "model1_1A.add(Dense(128, input_dim = (3)))\n",
        "model1_1A.add(RBFLayer(64, 0.5))\n",
        "model1_1A.add(Dense(1, activation='sigmoid', name= 'output'))\n",
        "model1_1A.summary()"
      ]
    },
    {
      "cell_type": "code",
      "execution_count": 14,
      "metadata": {
        "id": "h57UtCQp7HpT"
      },
      "outputs": [],
      "source": [
        "model1_1A.compile(optimizer='adam',\n",
        "              loss=binary_crossentropy,\n",
        "              metrics=[\n",
        "                       tf.keras.metrics.RootMeanSquaredError(),\n",
        "                       tf.keras.metrics.MeanAbsoluteError(),\n",
        "                       ])"
      ]
    },
    {
      "cell_type": "code",
      "execution_count": 15,
      "metadata": {
        "colab": {
          "base_uri": "https://localhost:8080/"
        },
        "id": "Ct9_TyKD7Hrm",
        "outputId": "ec7a8468-fd9e-4668-e16d-b8501e3557d8"
      },
      "outputs": [
        {
          "name": "stdout",
          "output_type": "stream",
          "text": [
            "Epoch 1/50\n",
            "868/868 [==============================] - 5s 5ms/step - loss: 0.4316 - root_mean_squared_error: 0.0780 - mean_absolute_error: 0.0423\n",
            "Epoch 2/50\n",
            "868/868 [==============================] - 4s 5ms/step - loss: 0.4180 - root_mean_squared_error: 0.0334 - mean_absolute_error: 0.0252\n",
            "Epoch 3/50\n",
            "868/868 [==============================] - 4s 5ms/step - loss: 0.4177 - root_mean_squared_error: 0.0327 - mean_absolute_error: 0.0246\n",
            "Epoch 4/50\n",
            "868/868 [==============================] - 4s 5ms/step - loss: 0.4175 - root_mean_squared_error: 0.0323 - mean_absolute_error: 0.0242\n",
            "Epoch 5/50\n",
            "868/868 [==============================] - 4s 5ms/step - loss: 0.4174 - root_mean_squared_error: 0.0320 - mean_absolute_error: 0.0239\n",
            "Epoch 6/50\n",
            "868/868 [==============================] - 4s 5ms/step - loss: 0.4173 - root_mean_squared_error: 0.0317 - mean_absolute_error: 0.0236\n",
            "Epoch 7/50\n",
            "868/868 [==============================] - 4s 5ms/step - loss: 0.4172 - root_mean_squared_error: 0.0314 - mean_absolute_error: 0.0233\n",
            "Epoch 8/50\n",
            "868/868 [==============================] - 4s 5ms/step - loss: 0.4172 - root_mean_squared_error: 0.0314 - mean_absolute_error: 0.0233\n",
            "Epoch 9/50\n",
            "868/868 [==============================] - 5s 5ms/step - loss: 0.4171 - root_mean_squared_error: 0.0313 - mean_absolute_error: 0.0231\n",
            "Epoch 10/50\n",
            "868/868 [==============================] - 5s 5ms/step - loss: 0.4171 - root_mean_squared_error: 0.0312 - mean_absolute_error: 0.0231\n",
            "Epoch 11/50\n",
            "868/868 [==============================] - 4s 5ms/step - loss: 0.4171 - root_mean_squared_error: 0.0311 - mean_absolute_error: 0.0230\n",
            "Epoch 12/50\n",
            "868/868 [==============================] - 5s 5ms/step - loss: 0.4170 - root_mean_squared_error: 0.0309 - mean_absolute_error: 0.0228\n",
            "Epoch 13/50\n",
            "868/868 [==============================] - 5s 5ms/step - loss: 0.4170 - root_mean_squared_error: 0.0307 - mean_absolute_error: 0.0227\n",
            "Epoch 14/50\n",
            "868/868 [==============================] - 5s 5ms/step - loss: 0.4170 - root_mean_squared_error: 0.0308 - mean_absolute_error: 0.0228\n",
            "Epoch 15/50\n",
            "868/868 [==============================] - 4s 5ms/step - loss: 0.4170 - root_mean_squared_error: 0.0306 - mean_absolute_error: 0.0226\n",
            "Epoch 16/50\n",
            "868/868 [==============================] - 4s 5ms/step - loss: 0.4169 - root_mean_squared_error: 0.0304 - mean_absolute_error: 0.0225\n",
            "Epoch 17/50\n",
            "868/868 [==============================] - 5s 5ms/step - loss: 0.4169 - root_mean_squared_error: 0.0302 - mean_absolute_error: 0.0223\n",
            "Epoch 18/50\n",
            "868/868 [==============================] - 5s 6ms/step - loss: 0.4168 - root_mean_squared_error: 0.0299 - mean_absolute_error: 0.0221\n",
            "Epoch 19/50\n",
            "868/868 [==============================] - 5s 5ms/step - loss: 0.4168 - root_mean_squared_error: 0.0297 - mean_absolute_error: 0.0220\n",
            "Epoch 20/50\n",
            "868/868 [==============================] - 5s 5ms/step - loss: 0.4168 - root_mean_squared_error: 0.0297 - mean_absolute_error: 0.0219\n",
            "Epoch 21/50\n",
            "868/868 [==============================] - 5s 6ms/step - loss: 0.4168 - root_mean_squared_error: 0.0296 - mean_absolute_error: 0.0219\n",
            "Epoch 22/50\n",
            "868/868 [==============================] - 6s 7ms/step - loss: 0.4168 - root_mean_squared_error: 0.0296 - mean_absolute_error: 0.0219\n",
            "Epoch 23/50\n",
            "868/868 [==============================] - 5s 5ms/step - loss: 0.4167 - root_mean_squared_error: 0.0295 - mean_absolute_error: 0.0218\n",
            "Epoch 24/50\n",
            "868/868 [==============================] - 5s 5ms/step - loss: 0.4167 - root_mean_squared_error: 0.0295 - mean_absolute_error: 0.0217\n",
            "Epoch 25/50\n",
            "868/868 [==============================] - 5s 6ms/step - loss: 0.4167 - root_mean_squared_error: 0.0293 - mean_absolute_error: 0.0217\n",
            "Epoch 26/50\n",
            "868/868 [==============================] - 5s 6ms/step - loss: 0.4167 - root_mean_squared_error: 0.0292 - mean_absolute_error: 0.0216\n",
            "Epoch 27/50\n",
            "868/868 [==============================] - 5s 6ms/step - loss: 0.4167 - root_mean_squared_error: 0.0292 - mean_absolute_error: 0.0216\n",
            "Epoch 28/50\n",
            "868/868 [==============================] - 5s 6ms/step - loss: 0.4167 - root_mean_squared_error: 0.0291 - mean_absolute_error: 0.0215\n",
            "Epoch 29/50\n",
            "868/868 [==============================] - 5s 5ms/step - loss: 0.4167 - root_mean_squared_error: 0.0292 - mean_absolute_error: 0.0216\n",
            "Epoch 30/50\n",
            "868/868 [==============================] - 5s 5ms/step - loss: 0.4167 - root_mean_squared_error: 0.0290 - mean_absolute_error: 0.0214\n",
            "Epoch 31/50\n",
            "868/868 [==============================] - 5s 5ms/step - loss: 0.4167 - root_mean_squared_error: 0.0291 - mean_absolute_error: 0.0215\n",
            "Epoch 32/50\n",
            "868/868 [==============================] - 5s 5ms/step - loss: 0.4167 - root_mean_squared_error: 0.0291 - mean_absolute_error: 0.0214\n",
            "Epoch 33/50\n",
            "868/868 [==============================] - 5s 5ms/step - loss: 0.4167 - root_mean_squared_error: 0.0289 - mean_absolute_error: 0.0214\n",
            "Epoch 34/50\n",
            "868/868 [==============================] - 5s 5ms/step - loss: 0.4167 - root_mean_squared_error: 0.0290 - mean_absolute_error: 0.0215\n",
            "Epoch 35/50\n",
            "868/868 [==============================] - 5s 6ms/step - loss: 0.4167 - root_mean_squared_error: 0.0290 - mean_absolute_error: 0.0215\n",
            "Epoch 36/50\n",
            "868/868 [==============================] - 5s 6ms/step - loss: 0.4166 - root_mean_squared_error: 0.0289 - mean_absolute_error: 0.0213\n",
            "Epoch 37/50\n",
            "868/868 [==============================] - 5s 6ms/step - loss: 0.4167 - root_mean_squared_error: 0.0290 - mean_absolute_error: 0.0214\n",
            "Epoch 38/50\n",
            "868/868 [==============================] - 5s 6ms/step - loss: 0.4166 - root_mean_squared_error: 0.0289 - mean_absolute_error: 0.0214\n",
            "Epoch 39/50\n",
            "868/868 [==============================] - 5s 5ms/step - loss: 0.4166 - root_mean_squared_error: 0.0288 - mean_absolute_error: 0.0213\n",
            "Epoch 40/50\n",
            "868/868 [==============================] - 5s 6ms/step - loss: 0.4166 - root_mean_squared_error: 0.0289 - mean_absolute_error: 0.0214\n",
            "Epoch 41/50\n",
            "868/868 [==============================] - 5s 6ms/step - loss: 0.4166 - root_mean_squared_error: 0.0288 - mean_absolute_error: 0.0212\n",
            "Epoch 42/50\n",
            "868/868 [==============================] - 5s 5ms/step - loss: 0.4166 - root_mean_squared_error: 0.0289 - mean_absolute_error: 0.0213\n",
            "Epoch 43/50\n",
            "868/868 [==============================] - 5s 5ms/step - loss: 0.4166 - root_mean_squared_error: 0.0289 - mean_absolute_error: 0.0213\n",
            "Epoch 44/50\n",
            "868/868 [==============================] - 5s 6ms/step - loss: 0.4166 - root_mean_squared_error: 0.0288 - mean_absolute_error: 0.0212\n",
            "Epoch 45/50\n",
            "868/868 [==============================] - 5s 5ms/step - loss: 0.4166 - root_mean_squared_error: 0.0288 - mean_absolute_error: 0.0212\n",
            "Epoch 46/50\n",
            "868/868 [==============================] - 5s 5ms/step - loss: 0.4166 - root_mean_squared_error: 0.0287 - mean_absolute_error: 0.0212\n",
            "Epoch 47/50\n",
            "868/868 [==============================] - 4s 5ms/step - loss: 0.4165 - root_mean_squared_error: 0.0286 - mean_absolute_error: 0.0211\n",
            "Epoch 48/50\n",
            "868/868 [==============================] - 5s 5ms/step - loss: 0.4166 - root_mean_squared_error: 0.0288 - mean_absolute_error: 0.0212\n",
            "Epoch 49/50\n",
            "868/868 [==============================] - 6s 6ms/step - loss: 0.4165 - root_mean_squared_error: 0.0285 - mean_absolute_error: 0.0210\n",
            "Epoch 50/50\n",
            "868/868 [==============================] - 5s 6ms/step - loss: 0.4165 - root_mean_squared_error: 0.0285 - mean_absolute_error: 0.0210\n",
            "0.9946528211184021\n"
          ]
        }
      ],
      "source": [
        "rbf_model = model1_1A.fit(x_train, y_train, epochs=50, batch_size=50, verbose=1)\n",
        "\n",
        "\n",
        "rbf_pred1 = model1_1A.predict(x_test)\n",
        "r2=r2_score(y_test, rbf_pred1)\n",
        "print(r2)"
      ]
    },
    {
      "cell_type": "code",
      "execution_count": 16,
      "metadata": {
        "colab": {
          "base_uri": "https://localhost:8080/"
        },
        "id": "A0snMNmM7Htm",
        "outputId": "fdab194d-6316-44e6-d70a-6fd344f3340e"
      },
      "outputs": [
        {
          "name": "stdout",
          "output_type": "stream",
          "text": [
            "the rbf predicted result is: [[0.819788  ]\n",
            " [0.02096564]\n",
            " [0.9539627 ]\n",
            " [0.9642532 ]\n",
            " [0.9516089 ]\n",
            " [0.94001406]\n",
            " [0.07563806]\n",
            " [0.9897281 ]\n",
            " [0.332688  ]\n",
            " [0.90196097]\n",
            " [0.98349094]\n",
            " [0.51494974]\n",
            " [0.15309784]\n",
            " [0.12461171]\n",
            " [0.10058257]\n",
            " [0.5384451 ]\n",
            " [0.4002019 ]\n",
            " [0.20670342]\n",
            " [0.5155479 ]\n",
            " [0.06104651]\n",
            " [0.6227179 ]\n",
            " [0.01997179]\n",
            " [0.06656006]\n",
            " [0.78231907]\n",
            " [0.04103041]\n",
            " [0.23371151]\n",
            " [0.09676987]\n",
            " [0.9847109 ]\n",
            " [0.01900515]\n",
            " [0.6569649 ]\n",
            " [0.2849282 ]\n",
            " [0.18530574]\n",
            " [0.9313104 ]\n",
            " [0.0538733 ]\n",
            " [0.9867643 ]\n",
            " [0.22250682]\n",
            " [0.10878748]\n",
            " [0.18667951]\n",
            " [0.14099741]\n",
            " [0.34008098]\n",
            " [0.26026732]\n",
            " [0.19326475]\n",
            " [0.1549862 ]\n",
            " [0.9744109 ]]\n"
          ]
        }
      ],
      "source": [
        "print(f\"the rbf predicted result is: {rbf_pred1}\")"
      ]
    },
    {
      "cell_type": "code",
      "execution_count": 17,
      "metadata": {
        "colab": {
          "base_uri": "https://localhost:8080/"
        },
        "id": "iNsfhz8B7Hvj",
        "outputId": "d2351c6a-c588-413a-f2b1-0209496a82f6"
      },
      "outputs": [
        {
          "name": "stdout",
          "output_type": "stream",
          "text": [
            "Model: \"sequential_1\"\n",
            "_________________________________________________________________\n",
            " Layer (type)                Output Shape              Param #   \n",
            "=================================================================\n",
            " dense_1 (Dense)             (None, 3)                 12        \n",
            "                                                                 \n",
            " dense_2 (Dense)             (None, 32)                128       \n",
            "                                                                 \n",
            " dense_3 (Dense)             (None, 64)                2112      \n",
            "                                                                 \n",
            " dense_4 (Dense)             (None, 64)                4160      \n",
            "                                                                 \n",
            " dense_5 (Dense)             (None, 32)                2080      \n",
            "                                                                 \n",
            " output (Dense)              (None, 1)                 33        \n",
            "                                                                 \n",
            "=================================================================\n",
            "Total params: 8,525\n",
            "Trainable params: 8,525\n",
            "Non-trainable params: 0\n",
            "_________________________________________________________________\n"
          ]
        }
      ],
      "source": [
        "model1_2A = Sequential()\n",
        "model1_2A.add(Dense(3, activation='relu', input_dim=(3)))\n",
        "model1_2A.add(Dense(32, activation='relu'))\n",
        "model1_2A.add(Dense(64, activation='relu'))\n",
        "model1_2A.add(Dense(64, activation='relu'))\n",
        "model1_2A.add(Dense(32, activation='relu'))\n",
        "model1_2A.add(Dense(1, name='output'))\n",
        "model1_2A.summary()"
      ]
    },
    {
      "cell_type": "code",
      "execution_count": 18,
      "metadata": {
        "colab": {
          "base_uri": "https://localhost:8080/"
        },
        "id": "NYen6o7P7Hws",
        "outputId": "edae3a50-20e8-4ae1-eb7c-b660ed19d4a0"
      },
      "outputs": [
        {
          "name": "stdout",
          "output_type": "stream",
          "text": [
            "Epoch 1/50\n",
            "868/868 [==============================] - 3s 2ms/step - loss: 0.4610 - root_mean_squared_error: 0.1351 - mean_absolute_error: 0.0814\n",
            "Epoch 2/50\n",
            "868/868 [==============================] - 2s 2ms/step - loss: 0.4411 - root_mean_squared_error: 0.0895 - mean_absolute_error: 0.0522\n",
            "Epoch 3/50\n",
            "868/868 [==============================] - 2s 2ms/step - loss: 0.4394 - root_mean_squared_error: 0.0812 - mean_absolute_error: 0.0515\n",
            "Epoch 4/50\n",
            "868/868 [==============================] - 2s 2ms/step - loss: 0.4305 - root_mean_squared_error: 0.0570 - mean_absolute_error: 0.0360\n",
            "Epoch 5/50\n",
            "868/868 [==============================] - 2s 2ms/step - loss: 0.4303 - root_mean_squared_error: 0.0617 - mean_absolute_error: 0.0345\n",
            "Epoch 6/50\n",
            "868/868 [==============================] - 2s 2ms/step - loss: 0.4288 - root_mean_squared_error: 0.0567 - mean_absolute_error: 0.0352\n",
            "Epoch 7/50\n",
            "868/868 [==============================] - 2s 2ms/step - loss: 0.4230 - root_mean_squared_error: 0.0544 - mean_absolute_error: 0.0285\n",
            "Epoch 8/50\n",
            "868/868 [==============================] - 2s 2ms/step - loss: 0.4166 - root_mean_squared_error: 0.0290 - mean_absolute_error: 0.0214\n",
            "Epoch 9/50\n",
            "868/868 [==============================] - 2s 2ms/step - loss: 0.4165 - root_mean_squared_error: 0.0287 - mean_absolute_error: 0.0211\n",
            "Epoch 10/50\n",
            "868/868 [==============================] - 2s 2ms/step - loss: 0.4168 - root_mean_squared_error: 0.0297 - mean_absolute_error: 0.0217\n",
            "Epoch 11/50\n",
            "868/868 [==============================] - 2s 2ms/step - loss: 0.4166 - root_mean_squared_error: 0.0289 - mean_absolute_error: 0.0213\n",
            "Epoch 12/50\n",
            "868/868 [==============================] - 2s 2ms/step - loss: 0.4210 - root_mean_squared_error: 0.0454 - mean_absolute_error: 0.0276\n",
            "Epoch 13/50\n",
            "868/868 [==============================] - 2s 2ms/step - loss: 0.4173 - root_mean_squared_error: 0.0313 - mean_absolute_error: 0.0224\n",
            "Epoch 14/50\n",
            "868/868 [==============================] - 2s 2ms/step - loss: 0.4165 - root_mean_squared_error: 0.0287 - mean_absolute_error: 0.0211\n",
            "Epoch 15/50\n",
            "868/868 [==============================] - 2s 2ms/step - loss: 0.4164 - root_mean_squared_error: 0.0287 - mean_absolute_error: 0.0211\n",
            "Epoch 16/50\n",
            "868/868 [==============================] - 2s 2ms/step - loss: 0.4165 - root_mean_squared_error: 0.0287 - mean_absolute_error: 0.0211\n",
            "Epoch 17/50\n",
            "868/868 [==============================] - 2s 3ms/step - loss: 0.4167 - root_mean_squared_error: 0.0293 - mean_absolute_error: 0.0214\n",
            "Epoch 18/50\n",
            "868/868 [==============================] - 2s 2ms/step - loss: 0.4165 - root_mean_squared_error: 0.0287 - mean_absolute_error: 0.0211\n",
            "Epoch 19/50\n",
            "868/868 [==============================] - 2s 2ms/step - loss: 0.4177 - root_mean_squared_error: 0.0329 - mean_absolute_error: 0.0232\n",
            "Epoch 20/50\n",
            "868/868 [==============================] - 2s 2ms/step - loss: 0.4163 - root_mean_squared_error: 0.0284 - mean_absolute_error: 0.0208\n",
            "Epoch 21/50\n",
            "868/868 [==============================] - 2s 3ms/step - loss: 0.4164 - root_mean_squared_error: 0.0283 - mean_absolute_error: 0.0208\n",
            "Epoch 22/50\n",
            "868/868 [==============================] - 2s 2ms/step - loss: 0.4178 - root_mean_squared_error: 0.0330 - mean_absolute_error: 0.0236\n",
            "Epoch 23/50\n",
            "868/868 [==============================] - 2s 2ms/step - loss: 0.4170 - root_mean_squared_error: 0.0300 - mean_absolute_error: 0.0221\n",
            "Epoch 24/50\n",
            "868/868 [==============================] - 2s 2ms/step - loss: 0.4168 - root_mean_squared_error: 0.0305 - mean_absolute_error: 0.0216\n",
            "Epoch 25/50\n",
            "868/868 [==============================] - 2s 2ms/step - loss: 0.4165 - root_mean_squared_error: 0.0289 - mean_absolute_error: 0.0210\n",
            "Epoch 26/50\n",
            "868/868 [==============================] - 2s 2ms/step - loss: 0.4163 - root_mean_squared_error: 0.0282 - mean_absolute_error: 0.0207\n",
            "Epoch 27/50\n",
            "868/868 [==============================] - 2s 2ms/step - loss: 0.4171 - root_mean_squared_error: 0.0304 - mean_absolute_error: 0.0221\n",
            "Epoch 28/50\n",
            "868/868 [==============================] - 2s 2ms/step - loss: 0.4163 - root_mean_squared_error: 0.0284 - mean_absolute_error: 0.0208\n",
            "Epoch 29/50\n",
            "868/868 [==============================] - 2s 2ms/step - loss: 0.4163 - root_mean_squared_error: 0.0282 - mean_absolute_error: 0.0207\n",
            "Epoch 30/50\n",
            "868/868 [==============================] - 2s 2ms/step - loss: 0.4164 - root_mean_squared_error: 0.0285 - mean_absolute_error: 0.0210\n",
            "Epoch 31/50\n",
            "868/868 [==============================] - 2s 2ms/step - loss: 0.4166 - root_mean_squared_error: 0.0289 - mean_absolute_error: 0.0213\n",
            "Epoch 32/50\n",
            "868/868 [==============================] - 2s 2ms/step - loss: 0.4164 - root_mean_squared_error: 0.0283 - mean_absolute_error: 0.0208\n",
            "Epoch 33/50\n",
            "868/868 [==============================] - 2s 2ms/step - loss: 0.4164 - root_mean_squared_error: 0.0285 - mean_absolute_error: 0.0211\n",
            "Epoch 34/50\n",
            "868/868 [==============================] - 2s 2ms/step - loss: 0.4163 - root_mean_squared_error: 0.0281 - mean_absolute_error: 0.0206\n",
            "Epoch 35/50\n",
            "868/868 [==============================] - 2s 2ms/step - loss: 0.4163 - root_mean_squared_error: 0.0281 - mean_absolute_error: 0.0206\n",
            "Epoch 36/50\n",
            "868/868 [==============================] - 2s 2ms/step - loss: 0.4163 - root_mean_squared_error: 0.0284 - mean_absolute_error: 0.0208\n",
            "Epoch 37/50\n",
            "868/868 [==============================] - 2s 2ms/step - loss: 0.4168 - root_mean_squared_error: 0.0294 - mean_absolute_error: 0.0217\n",
            "Epoch 38/50\n",
            "868/868 [==============================] - 2s 2ms/step - loss: 0.4163 - root_mean_squared_error: 0.0283 - mean_absolute_error: 0.0208\n",
            "Epoch 39/50\n",
            "868/868 [==============================] - 2s 2ms/step - loss: 0.4163 - root_mean_squared_error: 0.0280 - mean_absolute_error: 0.0206\n",
            "Epoch 40/50\n",
            "868/868 [==============================] - 2s 2ms/step - loss: 0.4173 - root_mean_squared_error: 0.0324 - mean_absolute_error: 0.0222\n",
            "Epoch 41/50\n",
            "868/868 [==============================] - 2s 2ms/step - loss: 0.4162 - root_mean_squared_error: 0.0279 - mean_absolute_error: 0.0204\n",
            "Epoch 42/50\n",
            "868/868 [==============================] - 2s 2ms/step - loss: 0.4163 - root_mean_squared_error: 0.0282 - mean_absolute_error: 0.0207\n",
            "Epoch 43/50\n",
            "868/868 [==============================] - 2s 2ms/step - loss: 0.4167 - root_mean_squared_error: 0.0297 - mean_absolute_error: 0.0212\n",
            "Epoch 44/50\n",
            "868/868 [==============================] - 2s 2ms/step - loss: 0.4162 - root_mean_squared_error: 0.0279 - mean_absolute_error: 0.0205\n",
            "Epoch 45/50\n",
            "868/868 [==============================] - 2s 2ms/step - loss: 0.4162 - root_mean_squared_error: 0.0278 - mean_absolute_error: 0.0203\n",
            "Epoch 46/50\n",
            "868/868 [==============================] - 3s 3ms/step - loss: 0.4163 - root_mean_squared_error: 0.0279 - mean_absolute_error: 0.0205\n",
            "Epoch 47/50\n",
            "868/868 [==============================] - 2s 2ms/step - loss: 0.4162 - root_mean_squared_error: 0.0278 - mean_absolute_error: 0.0204\n",
            "Epoch 48/50\n",
            "868/868 [==============================] - 2s 2ms/step - loss: 0.4168 - root_mean_squared_error: 0.0296 - mean_absolute_error: 0.0217\n",
            "Epoch 49/50\n",
            "868/868 [==============================] - 2s 2ms/step - loss: 0.4166 - root_mean_squared_error: 0.0289 - mean_absolute_error: 0.0211\n",
            "Epoch 50/50\n",
            "868/868 [==============================] - 2s 2ms/step - loss: 0.4162 - root_mean_squared_error: 0.0280 - mean_absolute_error: 0.0206\n"
          ]
        }
      ],
      "source": [
        "model1_2A.compile(optimizer='adam',\n",
        "              loss=binary_crossentropy,\n",
        "              metrics=[\n",
        "                       tf.keras.metrics.RootMeanSquaredError(),\n",
        "                       tf.keras.metrics.MeanAbsoluteError(),\n",
        "                       ])\n",
        "\n",
        "mlp_model = model1_2A.fit(x_train, y_train, epochs=50, batch_size=50, verbose=1)\n",
        "\n",
        "y_pred1_2A = model1_2A.predict(x_test)\n"
      ]
    },
    {
      "cell_type": "code",
      "execution_count": 19,
      "metadata": {
        "colab": {
          "base_uri": "https://localhost:8080/"
        },
        "id": "seHgP7poCuoI",
        "outputId": "3c6d9649-97de-429c-855a-bd40c4cc4184"
      },
      "outputs": [
        {
          "name": "stdout",
          "output_type": "stream",
          "text": [
            "0.9948554462277333\n"
          ]
        }
      ],
      "source": [
        "r2_mlp = r2_score(y_test, y_pred1_2A)\n",
        "print(r2_mlp)"
      ]
    },
    {
      "cell_type": "code",
      "execution_count": 20,
      "metadata": {
        "colab": {
          "base_uri": "https://localhost:8080/"
        },
        "id": "hmjbH2SL7Hyn",
        "outputId": "ec681904-3c2c-44eb-c15a-94414ba7c071"
      },
      "outputs": [
        {
          "name": "stdout",
          "output_type": "stream",
          "text": [
            " the predicted values for the mlp model is: [[0.8334561 ]\n",
            " [0.01201795]\n",
            " [0.94477683]\n",
            " [0.95142215]\n",
            " [0.94491976]\n",
            " [0.94461966]\n",
            " [0.06093323]\n",
            " [0.9699126 ]\n",
            " [0.3254608 ]\n",
            " [0.89601797]\n",
            " [0.9722433 ]\n",
            " [0.5088306 ]\n",
            " [0.14545554]\n",
            " [0.10934487]\n",
            " [0.08600478]\n",
            " [0.533291  ]\n",
            " [0.39678812]\n",
            " [0.19846845]\n",
            " [0.51721036]\n",
            " [0.05034397]\n",
            " [0.61613476]\n",
            " [0.01577973]\n",
            " [0.05060352]\n",
            " [0.7808688 ]\n",
            " [0.02790563]\n",
            " [0.22424486]\n",
            " [0.07881018]\n",
            " [0.97478956]\n",
            " [0.01220185]\n",
            " [0.65280867]\n",
            " [0.2769228 ]\n",
            " [0.16767496]\n",
            " [0.9188332 ]\n",
            " [0.04496973]\n",
            " [0.97110826]\n",
            " [0.20464271]\n",
            " [0.09267142]\n",
            " [0.17240098]\n",
            " [0.12641351]\n",
            " [0.33620605]\n",
            " [0.25504264]\n",
            " [0.18275362]\n",
            " [0.1484989 ]\n",
            " [0.9552694 ]]\n"
          ]
        }
      ],
      "source": [
        "print(f\" the predicted values for the mlp model is: {y_pred1_2A}\")"
      ]
    },
    {
      "cell_type": "code",
      "execution_count": 21,
      "metadata": {
        "colab": {
          "base_uri": "https://localhost:8080/",
          "height": 283
        },
        "id": "WPHTNbELF7yk",
        "outputId": "1d4e1f2e-79f8-42ac-eb87-e7ea0cfae516"
      },
      "outputs": [
        {
          "data": {
            "image/png": "[encoded data removed]",
            "text/plain": [
              "<Figure size 432x288 with 1 Axes>"
            ]
          },
          "metadata": {
            "needs_background": "light"
          },
          "output_type": "display_data"
        }
      ],
      "source": [
        "def plot_loss(rbf_model):\n",
        "  plt.plot(rbf_model.history['root_mean_squared_error'], label='rmse')\n",
        "  plt.plot(rbf_model.history['mean_absolute_error'], label='mae')\n",
        "  #plt.plot(r2.history['r2'], label='r2')\n",
        "  plt.ylim([0, 10])\n",
        "  plt.xlabel('Epoch')\n",
        "  plt.ylabel('Error')\n",
        "\n",
        "plot_loss(rbf_model)"
      ]
    },
    {
      "cell_type": "code",
      "execution_count": 22,
      "metadata": {
        "colab": {
          "base_uri": "https://localhost:8080/",
          "height": 283
        },
        "id": "NteMRt4GK9lz",
        "outputId": "1f92016c-64fd-4d1c-a225-079057c34e8d"
      },
      "outputs": [
        {
          "data": {
            "image/png": "[encoded data removed]",
            "text/plain": [
              "<Figure size 432x288 with 1 Axes>"
            ]
          },
          "metadata": {
            "needs_background": "light"
          },
          "output_type": "display_data"
        }
      ],
      "source": [
        "def plot_loss(mlp_model):\n",
        "  plt.plot(mlp_model.history['root_mean_squared_error'], label='rmse')\n",
        "  plt.plot(mlp_model.history['mean_absolute_error'], label='mae')\n",
        " # plt.plot(r2_mlp.history['r2'], label='r2')\n",
        "  plt.ylim([0, 10])\n",
        "  plt.xlabel('Epoch')\n",
        "  plt.ylabel('Error')\n",
        "\n",
        "plot_loss(mlp_model)"
      ]
    },
    {
      "cell_type": "code",
      "execution_count": 23,
      "metadata": {
        "id": "5knuwVz0K9n8"
      },
      "outputs": [],
      "source": [
        "xgboost_predicted = best_xgb_model.predict(data_x_)"
      ]
    },
    {
      "cell_type": "code",
      "execution_count": 24,
      "metadata": {
        "id": "7l-nb4zHK9qR"
      },
      "outputs": [],
      "source": [
        "rbf_predicted = model1_1A.predict(data_x)"
      ]
    },
    {
      "cell_type": "code",
      "execution_count": 25,
      "metadata": {
        "id": "AVx0zlBLK9ss"
      },
      "outputs": [],
      "source": [
        "mlp_predicted = model1_2A.predict(data_x)"
      ]
    },
    {
      "cell_type": "code",
      "execution_count": 26,
      "metadata": {
        "colab": {
          "base_uri": "https://localhost:8080/",
          "height": 279
        },
        "id": "HYDjy-AcK9vJ",
        "outputId": "74190fd1-ec65-49dc-93f1-d827ee5aa349"
      },
      "outputs": [
        {
          "data": {
            "image/png": "[encoded data removed]",
            "text/plain": [
              "<Figure size 432x288 with 1 Axes>"
            ]
          },
          "metadata": {
            "needs_background": "light"
          },
          "output_type": "display_data"
        }
      ],
      "source": [
        "#plt.plot(1, 1, color='#58b970', label='1-1 line')\n",
        "x = [0, 500, 1000, 1500, 2000]\n",
        "y = [0, 500, 1000, 1500, 2000]\n",
        "plt.plot(x, y, color='#58b970', label='1-1 line')\n",
        "plt.scatter(data_y_, xgboost_predicted, c='#ef5423', label='Scatter Plot')\n",
        "\n",
        "plt.xlabel('actual output')\n",
        "plt.ylabel('xgboost predicted output')\n",
        "plt.legend()\n",
        "plt.show()"
      ]
    },
    {
      "cell_type": "code",
      "execution_count": 27,
      "metadata": {
        "colab": {
          "base_uri": "https://localhost:8080/",
          "height": 279
        },
        "id": "YyFM2vQOK9yH",
        "outputId": "81f57aa4-ba94-47f2-d0a7-5384601f2dc4"
      },
      "outputs": [
        {
          "data": {
            "image/png": "[encoded data removed]",
            "text/plain": [
              "<Figure size 432x288 with 1 Axes>"
            ]
          },
          "metadata": {
            "needs_background": "light"
          },
          "output_type": "display_data"
        }
      ],
      "source": [
        "x = [0.0, 0.2, 0.4, 0.6, 0.8, 1.0]\n",
        "y = [0.0, 0.2, 0.4, 0.6, 0.8, 1.0]\n",
        "plt.plot(x, y, color='#58b970', label='1-1 line')\n",
        "\n",
        "plt.scatter(data_y, rbf_predicted, c='#ef5423', label='Scatter Plot')\n",
        "\n",
        "plt.xlabel('actual output')\n",
        "plt.ylabel('rbf predicted output')\n",
        "plt.legend()\n",
        "plt.show()"
      ]
    },
    {
      "cell_type": "code",
      "execution_count": 28,
      "metadata": {
        "colab": {
          "base_uri": "https://localhost:8080/",
          "height": 282
        },
        "id": "D0XH8KQ7K90c",
        "outputId": "de98ef62-d6ab-419c-a199-31dbbf5baadc"
      },
      "outputs": [
        {
          "data": {
            "text/plain": [
              "<matplotlib.axes._subplots.AxesSubplot at 0x7f3477d4b150>"
            ]
          },
          "execution_count": 28,
          "metadata": {},
          "output_type": "execute_result"
        },
        {
          "data": {
            "image/png": "[encoded data removed]",
            "text/plain": [
              "<Figure size 432x288 with 1 Axes>"
            ]
          },
          "metadata": {
            "needs_background": "light"
          },
          "output_type": "display_data"
        }
      ],
      "source": [
        "import seaborn as sns\n",
        "sns.histplot(xgboost_predicted)"
      ]
    },
    {
      "cell_type": "code",
      "execution_count": 29,
      "metadata": {
        "colab": {
          "base_uri": "https://localhost:8080/",
          "height": 386
        },
        "id": "JNpqy_OTK-Cy",
        "outputId": "b24a5afe-185c-4be7-a6c1-03d497d3e437"
      },
      "outputs": [
        {
          "data": {
            "text/plain": [
              "<seaborn.axisgrid.FacetGrid at 0x7f347868bed0>"
            ]
          },
          "execution_count": 29,
          "metadata": {},
          "output_type": "execute_result"
        },
        {
          "data": {
            "image/png": "[encoded data removed]",
            "text/plain": [
              "<Figure size 402.25x360 with 1 Axes>"
            ]
          },
          "metadata": {
            "needs_background": "light"
          },
          "output_type": "display_data"
        }
      ],
      "source": [
        "sns.displot(rbf_predicted)"
      ]
    },
    {
      "cell_type": "code",
      "execution_count": 30,
      "metadata": {
        "colab": {
          "base_uri": "https://localhost:8080/",
          "height": 386
        },
        "id": "_0ZMkiZTK-Hw",
        "outputId": "df20b441-59c3-4e0d-d0b1-76384b1cb186"
      },
      "outputs": [
        {
          "data": {
            "text/plain": [
              "<seaborn.axisgrid.FacetGrid at 0x7f3477fdff10>"
            ]
          },
          "execution_count": 30,
          "metadata": {},
          "output_type": "execute_result"
        },
        {
          "data": {
            "image/png": "[encoded data removed]",
            "text/plain": [
              "<Figure size 402.25x360 with 1 Axes>"
            ]
          },
          "metadata": {
            "needs_background": "light"
          },
          "output_type": "display_data"
        }
      ],
      "source": [
        "sns.displot(mlp_predicted)"
      ]
    },
    {
      "cell_type": "code",
      "execution_count": 31,
      "metadata": {
        "colab": {
          "base_uri": "https://localhost:8080/",
          "height": 424
        },
        "id": "NHxcignEK-LK",
        "outputId": "a875218e-6a9d-4fbc-cc2a-93c3dc61ee7a"
      },
      "outputs": [
        {
          "data": {
            "text/html": [
              "\n",
              "  <div id=\"df-55bd76f7-647c-45c6-bd2e-b8b50b111b1f\">\n",
              "    <div class=\"colab-df-container\">\n",
              "      <div>\n",
              "<style scoped>\n",
              "    .dataframe tbody tr th:only-of-type {\n",
              "        vertical-align: middle;\n",
              "    }\n",
              "\n",
              "    .dataframe tbody tr th {\n",
              "        vertical-align: top;\n",
              "    }\n",
              "\n",
              "    .dataframe thead th {\n",
              "        text-align: right;\n",
              "    }\n",
              "</style>\n",
              "<table border=\"1\" class=\"dataframe\">\n",
              "  <thead>\n",
              "    <tr style=\"text-align: right;\">\n",
              "      <th></th>\n",
              "      <th>wind speed</th>\n",
              "      <th>power output</th>\n",
              "    </tr>\n",
              "  </thead>\n",
              "  <tbody>\n",
              "    <tr>\n",
              "      <th>0</th>\n",
              "      <td>3.047361</td>\n",
              "      <td>98.183426</td>\n",
              "    </tr>\n",
              "    <tr>\n",
              "      <th>1</th>\n",
              "      <td>2.652139</td>\n",
              "      <td>73.429146</td>\n",
              "    </tr>\n",
              "    <tr>\n",
              "      <th>2</th>\n",
              "      <td>3.426296</td>\n",
              "      <td>122.242455</td>\n",
              "    </tr>\n",
              "    <tr>\n",
              "      <th>3</th>\n",
              "      <td>2.766799</td>\n",
              "      <td>59.306686</td>\n",
              "    </tr>\n",
              "    <tr>\n",
              "      <th>4</th>\n",
              "      <td>2.966572</td>\n",
              "      <td>76.206795</td>\n",
              "    </tr>\n",
              "    <tr>\n",
              "      <th>...</th>\n",
              "      <td>...</td>\n",
              "      <td>...</td>\n",
              "    </tr>\n",
              "    <tr>\n",
              "      <th>43409</th>\n",
              "      <td>12.532399</td>\n",
              "      <td>2044.529785</td>\n",
              "    </tr>\n",
              "    <tr>\n",
              "      <th>43410</th>\n",
              "      <td>13.545566</td>\n",
              "      <td>2047.304321</td>\n",
              "    </tr>\n",
              "    <tr>\n",
              "      <th>43411</th>\n",
              "      <td>13.648132</td>\n",
              "      <td>2042.839722</td>\n",
              "    </tr>\n",
              "    <tr>\n",
              "      <th>43412</th>\n",
              "      <td>12.969924</td>\n",
              "      <td>2045.875854</td>\n",
              "    </tr>\n",
              "    <tr>\n",
              "      <th>43413</th>\n",
              "      <td>14.798730</td>\n",
              "      <td>2051.134766</td>\n",
              "    </tr>\n",
              "  </tbody>\n",
              "</table>\n",
              "<p>43414 rows × 2 columns</p>\n",
              "</div>\n",
              "      <button class=\"colab-df-convert\" onclick=\"convertToInteractive('df-55bd76f7-647c-45c6-bd2e-b8b50b111b1f')\"\n",
              "              title=\"Convert this dataframe to an interactive table.\"\n",
              "              style=\"display:none;\">\n",
              "        \n",
              "  <svg xmlns=\"http://www.w3.org/2000/svg\" height=\"24px\"viewBox=\"0 0 24 24\"\n",
              "       width=\"24px\">\n",
              "    <path d=\"M0 0h24v24H0V0z\" fill=\"none\"/>\n",
              "    <path d=\"M18.56 5.44l.94 2.06.94-2.06 2.06-.94-2.06-.94-.94-2.06-.94 2.06-2.06.94zm-11 1L8.5 8.5l.94-2.06 2.06-.94-2.06-.94L8.5 2.5l-.94 2.06-2.06.94zm10 10l.94 2.06.94-2.06 2.06-.94-2.06-.94-.94-2.06-.94 2.06-2.06.94z\"/><path d=\"M17.41 7.96l-1.37-1.37c-.4-.4-.92-.59-1.43-.59-.52 0-1.04.2-1.43.59L10.3 9.45l-7.72 7.72c-.78.78-.78 2.05 0 2.83L4 21.41c.39.39.9.59 1.41.59.51 0 1.02-.2 1.41-.59l7.78-7.78 2.81-2.81c.8-.78.8-2.07 0-2.86zM5.41 20L4 18.59l7.72-7.72 1.47 1.35L5.41 20z\"/>\n",
              "  </svg>\n",
              "      </button>\n",
              "      \n",
              "  <style>\n",
              "    .colab-df-container {\n",
              "      display:flex;\n",
              "      flex-wrap:wrap;\n",
              "      gap: 12px;\n",
              "    }\n",
              "\n",
              "    .colab-df-convert {\n",
              "      background-color: #E8F0FE;\n",
              "      border: none;\n",
              "      border-radius: 50%;\n",
              "      cursor: pointer;\n",
              "      display: none;\n",
              "      fill: #1967D2;\n",
              "      height: 32px;\n",
              "      padding: 0 0 0 0;\n",
              "      width: 32px;\n",
              "    }\n",
              "\n",
              "    .colab-df-convert:hover {\n",
              "      background-color: #E2EBFA;\n",
              "      box-shadow: 0px 1px 2px rgba(60, 64, 67, 0.3), 0px 1px 3px 1px rgba(60, 64, 67, 0.15);\n",
              "      fill: #174EA6;\n",
              "    }\n",
              "\n",
              "    [theme=dark] .colab-df-convert {\n",
              "      background-color: #3B4455;\n",
              "      fill: #D2E3FC;\n",
              "    }\n",
              "\n",
              "    [theme=dark] .colab-df-convert:hover {\n",
              "      background-color: #434B5C;\n",
              "      box-shadow: 0px 1px 3px 1px rgba(0, 0, 0, 0.15);\n",
              "      filter: drop-shadow(0px 1px 2px rgba(0, 0, 0, 0.3));\n",
              "      fill: #FFFFFF;\n",
              "    }\n",
              "  </style>\n",
              "\n",
              "      <script>\n",
              "        const buttonEl =\n",
              "          document.querySelector('#df-55bd76f7-647c-45c6-bd2e-b8b50b111b1f button.colab-df-convert');\n",
              "        buttonEl.style.display =\n",
              "          google.colab.kernel.accessAllowed ? 'block' : 'none';\n",
              "\n",
              "        async function convertToInteractive(key) {\n",
              "          const element = document.querySelector('#df-55bd76f7-647c-45c6-bd2e-b8b50b111b1f');\n",
              "          const dataTable =\n",
              "            await google.colab.kernel.invokeFunction('convertToInteractive',\n",
              "                                                     [key], {});\n",
              "          if (!dataTable) return;\n",
              "\n",
              "          const docLinkHtml = 'Like what you see? Visit the ' +\n",
              "            '<a target=\"_blank\" href=https://colab.research.google.com/notebooks/data_table.ipynb>data table notebook</a>'\n",
              "            + ' to learn more about interactive tables.';\n",
              "          element.innerHTML = '';\n",
              "          dataTable['output_type'] = 'display_data';\n",
              "          await google.colab.output.renderOutput(dataTable, element);\n",
              "          const docLink = document.createElement('div');\n",
              "          docLink.innerHTML = docLinkHtml;\n",
              "          element.appendChild(docLink);\n",
              "        }\n",
              "      </script>\n",
              "    </div>\n",
              "  </div>\n",
              "  "
            ],
            "text/plain": [
              "       wind speed  power output\n",
              "0        3.047361     98.183426\n",
              "1        2.652139     73.429146\n",
              "2        3.426296    122.242455\n",
              "3        2.766799     59.306686\n",
              "4        2.966572     76.206795\n",
              "...           ...           ...\n",
              "43409   12.532399   2044.529785\n",
              "43410   13.545566   2047.304321\n",
              "43411   13.648132   2042.839722\n",
              "43412   12.969924   2045.875854\n",
              "43413   14.798730   2051.134766\n",
              "\n",
              "[43414 rows x 2 columns]"
            ]
          },
          "execution_count": 31,
          "metadata": {},
          "output_type": "execute_result"
        }
      ],
      "source": [
        "d = {'wind speed': data_x_[:, 0], 'power output':xgboost_predicted }\n",
        "e = pd.DataFrame(data=d)\n",
        "e"
      ]
    },
    {
      "cell_type": "code",
      "execution_count": 32,
      "metadata": {
        "id": "RQ9wDNAmLb-d"
      },
      "outputs": [],
      "source": [
        "from pandas import ExcelWriter\n",
        "\n",
        "writer = ExcelWriter('model_data_1.xlsx')\n",
        "e.to_excel(writer)\n",
        "writer.save()"
      ]
    },
    {
      "cell_type": "code",
      "execution_count": 33,
      "metadata": {
        "colab": {
          "base_uri": "https://localhost:8080/",
          "height": 279
        },
        "id": "NoTp1t3b27h2",
        "outputId": "2daee0e0-7f1c-4a5c-b99a-ba57e53ce983"
      },
      "outputs": [
        {
          "data": {
            "image/png": "[encoded data removed]",
            "text/plain": [
              "<Figure size 432x288 with 1 Axes>"
            ]
          },
          "metadata": {
            "needs_background": "light"
          },
          "output_type": "display_data"
        }
      ],
      "source": [
        "plt.scatter(e[['wind speed']], e[['power output']], color = 'b')\n",
        "plt.xlabel(\"wind speed\")\n",
        "plt.ylabel(\"power\")\n",
        "plt.show()"
      ]
    }
  ],
  "metadata": {
    "colab": {
      "provenance": []
    },
    "kernelspec": {
      "display_name": "Python 3.10.5 64-bit",
      "language": "python",
      "name": "python3"
    },
    "language_info": {
      "name": "python",
      "version": "3.10.5"
    },
    "vscode": {
      "interpreter": {
        "hash": "3e710054e6f1c09702324509568490b50e9c73ccbb83f632b16ff4d7ce967039"
      }
    }
  },
  "nbformat": 4,
  "nbformat_minor": 0
}
